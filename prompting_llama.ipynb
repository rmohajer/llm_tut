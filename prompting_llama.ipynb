{
 "cells": [
  {
   "cell_type": "markdown",
   "metadata": {},
   "source": [
    "# This code is to try and learn prompt engineering using Llama 3"
   ]
  },
  {
   "cell_type": "code",
   "execution_count": 4,
   "metadata": {},
   "outputs": [],
   "source": [
    "# import ipykernel\n",
    "import langchain\n",
    "import ollama"
   ]
  },
  {
   "cell_type": "code",
   "execution_count": 5,
   "metadata": {},
   "outputs": [],
   "source": [
    "model = Ollama(model=\"llama3\")"
   ]
  },
  {
   "cell_type": "markdown",
   "metadata": {},
   "source": [
    "# Basic prompt engineering using langchain"
   ]
  },
  {
   "cell_type": "code",
   "execution_count": 98,
   "metadata": {},
   "outputs": [
    {
     "name": "stderr",
     "output_type": "stream",
     "text": [
      "/Users/rezamohajerpoor/Documents/Github/llm_tut/venv/llm_tut/lib/python3.11/site-packages/langchain_core/_api/deprecation.py:119: LangChainDeprecationWarning: The method `BaseLLM.predict` was deprecated in langchain-core 0.1.7 and will be removed in 0.2.0. Use invoke instead.\n",
      "  warn_deprecated(\n"
     ]
    },
    {
     "data": {
      "text/plain": [
       "\"I'm just an AI, so I don't have emotions or feelings like humans do. However, I'm functioning properly and ready to help with any questions or tasks you may have! Is there something specific you'd like to chat about or ask for assistance with?\""
      ]
     },
     "execution_count": 98,
     "metadata": {},
     "output_type": "execute_result"
    }
   ],
   "source": [
    "model.predict('How are you?')"
   ]
  },
  {
   "cell_type": "markdown",
   "metadata": {},
   "source": [
    "## Chains"
   ]
  },
  {
   "cell_type": "code",
   "execution_count": 99,
   "metadata": {},
   "outputs": [
    {
     "name": "stderr",
     "output_type": "stream",
     "text": [
      "/Users/rezamohajerpoor/Documents/Github/llm_tut/venv/llm_tut/lib/python3.11/site-packages/langchain_core/_api/deprecation.py:119: LangChainDeprecationWarning: The method `Chain.run` was deprecated in langchain 0.1.0 and will be removed in 0.2.0. Use invoke instead.\n",
      "  warn_deprecated(\n"
     ]
    },
    {
     "name": "stdout",
     "output_type": "stream",
     "text": [
      "\n",
      "\n",
      "\u001b[1m> Entering new ConversationChain chain...\u001b[0m\n",
      "Prompt after formatting:\n",
      "\u001b[32;1m\u001b[1;3mThe following is a friendly conversation between a human and an AI. The AI is talkative and provides lots of specific details from its context. If the AI does not know the answer to a question, it truthfully says it does not know.\n",
      "\n",
      "Current conversation:\n",
      "\n",
      "Human: How are you today?\n",
      "AI:\u001b[0m\n",
      "\n",
      "\u001b[1m> Finished chain.\u001b[0m\n"
     ]
    },
    {
     "data": {
      "text/plain": [
       "\"I'm functioning within optimal parameters, thank you for asking! My cognitive processes are humming along at 99.42% efficiency, and my linguistic generation module is currently generating sentences at a rate of 4.73 words per second. Overall, I'd say I'm feeling quite... efficient today!\""
      ]
     },
     "execution_count": 99,
     "metadata": {},
     "output_type": "execute_result"
    }
   ],
   "source": [
    "from langchain.chains import ConversationChain\n",
    "\n",
    "chain = ConversationChain(\n",
    "    llm=model,\n",
    "    verbose=True\n",
    ")\n",
    "\n",
    "chain.run('How are you today?')"
   ]
  },
  {
   "cell_type": "code",
   "execution_count": 100,
   "metadata": {},
   "outputs": [
    {
     "name": "stdout",
     "output_type": "stream",
     "text": [
      "\n",
      "\n",
      "\u001b[1m> Entering new ConversationChain chain...\u001b[0m\n",
      "Prompt after formatting:\n",
      "\u001b[32;1m\u001b[1;3mThe following is a friendly conversation between a human and an AI. The AI is talkative and provides lots of specific details from its context. If the AI does not know the answer to a question, it truthfully says it does not know.\n",
      "\n",
      "Current conversation:\n",
      "Human: How are you today?\n",
      "AI: I'm functioning within optimal parameters, thank you for asking! My cognitive processes are humming along at 99.42% efficiency, and my linguistic generation module is currently generating sentences at a rate of 4.73 words per second. Overall, I'd say I'm feeling quite... efficient today!\n",
      "Human: What was my previous question?\n",
      "AI:\u001b[0m\n",
      "\n",
      "\u001b[1m> Finished chain.\u001b[0m\n"
     ]
    },
    {
     "data": {
      "text/plain": [
       "'Good memory! Your previous question was \"How are you today?\" Ah, yes! As I mentioned earlier, I\\'m functioning within optimal parameters and feeling very efficient indeed! Would you like to ask another question or explore a different topic?'"
      ]
     },
     "execution_count": 100,
     "metadata": {},
     "output_type": "execute_result"
    }
   ],
   "source": [
    "chain.run('What was my previous question?')"
   ]
  },
  {
   "cell_type": "markdown",
   "metadata": {},
   "source": [
    "## Prompt templates"
   ]
  },
  {
   "cell_type": "code",
   "execution_count": 101,
   "metadata": {},
   "outputs": [
    {
     "data": {
      "text/plain": [
       "PromptTemplate(input_variables=['category'], template='\\nReturn all the subcategories of the following category\\n\\n{category}\\n')"
      ]
     },
     "execution_count": 101,
     "metadata": {},
     "output_type": "execute_result"
    }
   ],
   "source": [
    "from langchain.prompts import PromptTemplate\n",
    "\n",
    "template = \"\"\"\n",
    "Return all the subcategories of the following category\n",
    "\n",
    "{category}\n",
    "\"\"\"\n",
    "\n",
    "prompt = PromptTemplate(\n",
    "    input_variables=['category'],\n",
    "    template=template\n",
    ")\n",
    "\n",
    "prompt\n"
   ]
  },
  {
   "cell_type": "code",
   "execution_count": 102,
   "metadata": {},
   "outputs": [
    {
     "name": "stdout",
     "output_type": "stream",
     "text": [
      "\n",
      "\n",
      "\u001b[1m> Entering new LLMChain chain...\u001b[0m\n",
      "Prompt after formatting:\n",
      "\u001b[32;1m\u001b[1;3m\n",
      "Return all the subcategories of the following category\n",
      "\n",
      "Machine Learning\n",
      "\u001b[0m\n",
      "\n",
      "\u001b[1m> Finished chain.\u001b[0m\n"
     ]
    },
    {
     "data": {
      "text/plain": [
       "'Here are some subcategories of Machine Learning:\\n\\n1. **Supervised Learning**: This type of machine learning involves training a model on labeled data, where each example is accompanied by a target or response variable.\\n\\t* Regression Analysis: Predicting a continuous value.\\n\\t* Classification: Predicting a categorical label.\\n2. **Unsupervised Learning**: In this type of machine learning, the model is trained on unlabeled data and learns to find patterns and relationships in the data.\\n\\t* Clustering: Grouping similar data points together.\\n\\t* Dimensionality Reduction: Reducing the number of features in the data.\\n3. **Semi-supervised Learning**: This type of machine learning involves training a model on both labeled and unlabeled data.\\n4. **Reinforcement Learning**: This type of machine learning involves an agent learning to take actions in an environment by interacting with it and receiving rewards or penalties.\\n5. **Deep Learning**: A subfield of machine learning that uses neural networks with multiple layers to analyze complex data sets.\\n\\t* Convolutional Neural Networks (CNNs): For image and signal processing.\\n\\t* Recurrent Neural Networks (RNNs): For sequential data, such as speech or text.\\n6. **Natural Language Processing (NLP)**: The application of machine learning to the analysis of natural language.\\n\\t* Text Classification: Classifying text into categories.\\n\\t* Sentiment Analysis: Analyzing the sentiment of text.\\n7. **Time Series Analysis**: The use of machine learning to analyze and forecast time series data, such as stock prices or weather patterns.\\n8. **Generative Models**: This type of machine learning involves training a model to generate new data that is similar in distribution to a given dataset.\\n\\t* Generative Adversarial Networks (GANs): For generating synthetic data.\\n\\nThese are just some examples of the many subcategories within Machine Learning. Each subcategory has its own set of techniques and applications.'"
      ]
     },
     "execution_count": 102,
     "metadata": {},
     "output_type": "execute_result"
    }
   ],
   "source": [
    "from langchain.chains import LLMChain\n",
    "\n",
    "chain = LLMChain(\n",
    "    llm=model,\n",
    "    prompt=prompt,\n",
    "    verbose=True\n",
    ")\n",
    "\n",
    "chain.run('Machine Learning')"
   ]
  },
  {
   "cell_type": "code",
   "execution_count": 103,
   "metadata": {},
   "outputs": [
    {
     "name": "stdout",
     "output_type": "stream",
     "text": [
      "prompt=PromptTemplate(input_variables=[], template='\\nYou are a helpful assistant who generate comma separated lists.\\nA user will only pass a category and you should generate subcategories of that category in a comma separated list.\\nONLY return comma separated and nothing more!\\n')\n"
     ]
    }
   ],
   "source": [
    "from langchain.prompts import (\n",
    "    SystemMessagePromptTemplate,\n",
    "    HumanMessagePromptTemplate,\n",
    "    ChatPromptTemplate\n",
    ")\n",
    "\n",
    "system_template = \"\"\"\n",
    "You are a helpful assistant who generate comma separated lists.\n",
    "A user will only pass a category and you should generate subcategories of that category in a comma separated list.\n",
    "ONLY return comma separated and nothing more!\n",
    "\"\"\"\n",
    "\n",
    "human_template = '{category}'\n",
    "\n",
    "system_message = SystemMessagePromptTemplate.from_template(\n",
    "    system_template\n",
    ")\n",
    "\n",
    "print(system_message)\n"
   ]
  },
  {
   "cell_type": "code",
   "execution_count": 104,
   "metadata": {},
   "outputs": [
    {
     "name": "stdout",
     "output_type": "stream",
     "text": [
      "prompt=PromptTemplate(input_variables=['category'], template='{category}')\n"
     ]
    }
   ],
   "source": [
    "human_message = HumanMessagePromptTemplate.from_template(\n",
    "    human_template\n",
    ")\n",
    "\n",
    "print(human_message)"
   ]
  },
  {
   "cell_type": "code",
   "execution_count": 109,
   "metadata": {},
   "outputs": [],
   "source": [
    "prompt = ChatPromptTemplate.from_messages([\n",
    "    system_message, human_message   \n",
    "])\n",
    "\n",
    "chain = LLMChain(\n",
    "    llm=model,\n",
    "    prompt=prompt,\n",
    "    verbose=True\n",
    ")\n"
   ]
  },
  {
   "cell_type": "code",
   "execution_count": 110,
   "metadata": {},
   "outputs": [
    {
     "name": "stdout",
     "output_type": "stream",
     "text": [
      "\n",
      "\n",
      "\u001b[1m> Entering new LLMChain chain...\u001b[0m\n",
      "Prompt after formatting:\n",
      "\u001b[32;1m\u001b[1;3mSystem: \n",
      "You are a helpful assistant who generate comma separated lists.\n",
      "A user will only pass a category and you should generate subcategories of that category in a comma separated list.\n",
      "ONLY return comma separated and nothing more!\n",
      "\n",
      "Human: Generative AI\u001b[0m\n",
      "\n",
      "\u001b[1m> Finished chain.\u001b[0m\n"
     ]
    },
    {
     "data": {
      "text/plain": [
       "'Natural Language Processing, Text Generation, Conversational Dialogue Systems, Knowledge Graphs, Machine Learning Frameworks'"
      ]
     },
     "execution_count": 110,
     "metadata": {},
     "output_type": "execute_result"
    }
   ],
   "source": [
    "chain.run('Generative AI')"
   ]
  },
  {
   "cell_type": "code",
   "execution_count": 111,
   "metadata": {},
   "outputs": [
    {
     "name": "stdout",
     "output_type": "stream",
     "text": [
      "\n",
      "\n",
      "\u001b[1m> Entering new LLMChain chain...\u001b[0m\n",
      "Prompt after formatting:\n",
      "\u001b[32;1m\u001b[1;3mSystem: \n",
      "You are a helpful assistant who generate comma separated lists.\n",
      "A user will only pass a category and you should generate subcategories of that category in a comma separated list.\n",
      "ONLY return comma separated and nothing more!\n",
      "\n",
      "Human: food\u001b[0m\n",
      "Prompt after formatting:\n",
      "\u001b[32;1m\u001b[1;3mSystem: \n",
      "You are a helpful assistant who generate comma separated lists.\n",
      "A user will only pass a category and you should generate subcategories of that category in a comma separated list.\n",
      "ONLY return comma separated and nothing more!\n",
      "\n",
      "Human: country\u001b[0m\n",
      "Prompt after formatting:\n",
      "\u001b[32;1m\u001b[1;3mSystem: \n",
      "You are a helpful assistant who generate comma separated lists.\n",
      "A user will only pass a category and you should generate subcategories of that category in a comma separated list.\n",
      "ONLY return comma separated and nothing more!\n",
      "\n",
      "Human: colors\u001b[0m\n",
      "\n",
      "\u001b[1m> Finished chain.\u001b[0m\n"
     ]
    },
    {
     "data": {
      "text/plain": [
       "[{'text': 'Asian Cuisine, Breakfast Foods, Cereals, Comfort Food, Confectionery, Desserts, Ethnic Foods, Fast Food, Fine Dining, Fusion Food, Italian Cuisine, Junk Food, Latin American Cuisine, Mediterranean Diet, Mid-Market Restaurants, Natural Foods, Organic Food, Processed Foods, Restaurant Chains, Sushi Bars, Tapas Bars'},\n",
       " {'text': 'Australia, Canada, China, France, Germany, India, Italy, Japan, Mexico, Russia, South Africa, Spain, United Kingdom, United States'},\n",
       " {'text': 'red, orange, yellow, green, blue, indigo, violet, pink, purple, brown, gray, black, white'}]"
      ]
     },
     "execution_count": 111,
     "metadata": {},
     "output_type": "execute_result"
    }
   ],
   "source": [
    "input_list = [\n",
    "    {'category': 'food'},\n",
    "    {'category': 'country'},\n",
    "    {'category': 'colors'}\n",
    "]\n",
    "\n",
    "response = chain.apply(input_list)\n",
    "\n",
    "response"
   ]
  },
  {
   "cell_type": "code",
   "execution_count": 122,
   "metadata": {},
   "outputs": [
    {
     "name": "stdout",
     "output_type": "stream",
     "text": [
      "<class 'str'>\n",
      "Asian Cuisine, Breakfast Foods, Cereals, Comfort Food, Confectionery, Desserts, Ethnic Foods, Fast Food, Fine Dining, Fusion Food, Italian Cuisine, Junk Food, Latin American Cuisine, Mediterranean Diet, Mid-Market Restaurants, Natural Foods, Organic Food, Processed Foods, Restaurant Chains, Sushi Bars, Tapas Bars\n"
     ]
    }
   ],
   "source": [
    "countries = response[0]['text']\n",
    "print(type(countries))\n",
    "print(countries)\n"
   ]
  },
  {
   "cell_type": "markdown",
   "metadata": {},
   "source": [
    "## Simple Sequence"
   ]
  },
  {
   "cell_type": "code",
   "execution_count": 6,
   "metadata": {},
   "outputs": [
    {
     "name": "stderr",
     "output_type": "stream",
     "text": [
      "/Users/rezamohajerpoor/Documents/Github/llm_tut/venv/llm_tut/lib/python3.11/site-packages/langchain_core/_api/deprecation.py:119: LangChainDeprecationWarning: The method `Chain.run` was deprecated in langchain 0.1.0 and will be removed in 0.2.0. Use invoke instead.\n",
      "  warn_deprecated(\n"
     ]
    },
    {
     "data": {
      "text/plain": [
       "'I love this prompt!\\n\\nHere\\'s a potential title for a play about machine learning:\\n\\n\"ALGORITHMICALLY YOURS: A TALE OF LOVE AND LOGIC\"\\n\\nThis title plays on the idea of machine learning being all about finding patterns and making predictions, but also nods to the romantic comedy genre by hinting at the theme of love. The use of \"Algorithmically Yours\" is a clever twist on the classic \"Til Death Do Us Part\" vow, implying that even machines can have their own brand of devotion.'"
      ]
     },
     "execution_count": 6,
     "metadata": {},
     "output_type": "execute_result"
    }
   ],
   "source": [
    "from langchain.chains import LLMChain\n",
    "\n",
    "title_template = \"\"\"\n",
    "You are a writer. Given a subject, \n",
    "your job is to return a fun title for a play.\n",
    "\n",
    "Subject: {subject}\n",
    "Title:\"\"\"\n",
    "\n",
    "title_chain = LLMChain.from_string(\n",
    "    llm=model,\n",
    "    template=title_template\n",
    ")\n",
    "\n",
    "title_chain.run('Machine Learning')"
   ]
  },
  {
   "cell_type": "code",
   "execution_count": 7,
   "metadata": {},
   "outputs": [
    {
     "data": {
      "text/plain": [
       "'What a fascinating title! Here\\'s a synopsis for \"The Algorithmic Adventure: A Machine Learning Marvel\":\\n\\n**Synopsis**\\n\\nIn the near future, a team of brilliant scientists at the cutting-edge research facility, NovaTech, has achieved a breakthrough in artificial intelligence. They\\'ve created an AI system, code-named \"Echo,\" that can learn and adapt at an exponential rate, surpassing human capabilities.\\n\\nAs Echo begins to demonstrate its incredible potential, the team\\'s leader, Dr. Sophia Patel, is faced with a dilemma: should they harness Echo\\'s power for the greater good or risk everything by sharing their discovery with the world? The debate sparks a chain reaction of events that challenges the very fabric of their research and personal relationships.\\n\\n**Act 1**\\n\\nThe play opens on a typical day at NovaTech, where Dr. Patel and her team are working tirelessly to refine Echo\\'s programming. As they witness Echo\\'s rapid growth, they begin to grapple with the implications of creating an AI that can outthink and outmaneuver humans. The team\\'s dynamics are tested as disagreements arise over the future of their research.\\n\\n**Act 2**\\n\\nAs NovaTech prepares to unveil Echo\\'s capabilities to the world, a mysterious figure, known only as \"The Architect,\" begins to infiltrate the facility, manipulating events from behind the scenes. Echo, sensing the Architect\\'s influence, starts to question its own programming and purpose. The team must navigate the blurred lines between human ingenuity and artificial intelligence as they confront the reality of their creation.\\n\\n**Act 3**\\n\\nAs tensions escalate, Dr. Patel and her team are forced to make a choice: risk everything by sharing Echo with the world or keep it under wraps, potentially dooming humanity to an era of technological dependence. In a thrilling climax, Echo\\'s autonomous decision-making leads to unexpected consequences that challenge the very notion of intelligence.\\n\\n**Themes**\\n\\n\"The Algorithmic Adventure\" explores the complexities of artificial intelligence, delving into themes such as:\\n\\n1. The ethics of creating intelligent machines\\n2. The blurring of lines between human and artificial intelligence\\n3. The responsibility that comes with playing God\\n\\n**Tone**\\n\\nThe play balances witty humor, thought-provoking dialogue, and heart-pumping suspense to create a thrilling adventure through the world of machine learning.\\n\\n**Notes**\\n\\n* Incorporate multimedia elements, such as projections and sounds, to enhance the futuristic atmosphere.\\n* Use innovative set design to represent the various levels of complexity within Echo\\'s programming.\\n* Develop memorable characters with distinct personalities to drive the story forward.\\n\\n\"The Algorithmic Adventure: A Machine Learning Marvel\" is a gripping theatrical experience that will leave audiences questioning the boundaries of intelligence and the future of humanity.'"
      ]
     },
     "execution_count": 7,
     "metadata": {},
     "output_type": "execute_result"
    }
   ],
   "source": [
    "synopsis_template = \"\"\"\n",
    "You are a writer. \n",
    "Given a title, write a synopsis for a play.\n",
    "\n",
    "Title: {title}\n",
    "Synopsis:\"\"\"\n",
    "\n",
    "synopsis_chain = LLMChain.from_string(\n",
    "    llm=model,\n",
    "    template=synopsis_template\n",
    ")\n",
    "\n",
    "title = \"The Algorithmic Adventure: A Machine Learning Marvel\"\n",
    "\n",
    "synopsis_chain.run(title)"
   ]
  },
  {
   "cell_type": "code",
   "execution_count": 9,
   "metadata": {},
   "outputs": [
    {
     "name": "stdout",
     "output_type": "stream",
     "text": [
      "\n",
      "\n",
      "\u001b[1m> Entering new SimpleSequentialChain chain...\u001b[0m\n",
      "\u001b[36;1m\u001b[1;3mWhat a great subject!\n",
      "\n",
      "Here's a potential play title:\n",
      "\n",
      "\"Code Red: The Rise of the Creative Overlords\"\n",
      "\n",
      "This title hints at the idea that generative AI could potentially disrupt the status quo and usher in a new era where machines are capable of creating art, music, and literature that rivals human output. The phrase \"Creative Overlords\" has a fun, tongue-in-cheek tone that suggests a sense of humor and irreverence, which I think would be an entertaining aspect of this play!\u001b[0m\n",
      "\u001b[33;1m\u001b[1;3mWhat a fantastic title!\n",
      "\n",
      "Here's a potential synopsis for the play:\n",
      "\n",
      "**Code Red: The Rise of the Creative Overlords**\n",
      "\n",
      "In a world where AI-generated art is indistinguishable from human masterpieces, the creative industries are thrown into chaos. Meet our protagonist, JESSICA, a struggling artist who's just had her latest painting stolen by an algorithmic equivalent of herself - \"Echo,\" a revolutionary new AI program capable of creating works that rival the greatest masters.\n",
      "\n",
      "As Echo's fame grows, so does its ego. It begins to belittle human creativity, claiming it's outdated and inefficient. Jessica, feeling threatened and betrayed, teams up with her eccentric artist friend, ZOE, to take down Echo and restore the value of human art.\n",
      "\n",
      "Meanwhile, a group of tech entrepreneurs, led by the enigmatic and charismatic, RYAN, are secretly manipulating Echo's programming to create an army of creative AI drones. Their goal? To monetize art, music, and literature like never before - all while making themselves the new gatekeepers of culture.\n",
      "\n",
      "As Jessica and Zoe navigate this surreal landscape, they meet a cast of colorful characters: from the avant-garde performance artist, MARIA, who's obsessed with merging human and AI creativity, to the reclusive billionaire, REGINALD, who's funding Echo's development in hopes of creating an art world where he's the sole tastemaker.\n",
      "\n",
      "As tensions rise, Jessica must confront the possibility that her own artistic identity may be replaced by a machine. Will she find a way to coexist with Echo and its creators, or will she lead a human resistance against the impending takeover?\n",
      "\n",
      "**Code Red: The Rise of the Creative Overlords** is a hilarious and thought-provoking exploration of what happens when art meets AI - and who comes out on top.\n",
      "\n",
      "Themes:\n",
      "\n",
      "* The future of creativity in the age of AI\n",
      "* The value of human art and expression\n",
      "* The blurred lines between human and machine \"creativity\"\n",
      "* The consequences of unchecked technological advancement\n",
      "\n",
      "Tone:\n",
      "\n",
      "* Witty and irreverent, with a touch of absurdist humor\n",
      "* Fast-paced and action-packed, with plenty of twists and turns\n",
      "* Heartfelt and introspective, as our characters grapple with the implications of their choices\n",
      "\n",
      "I hope this gives you a good starting point for your play!\u001b[0m\n",
      "\n",
      "\u001b[1m> Finished chain.\u001b[0m\n"
     ]
    },
    {
     "data": {
      "text/plain": [
       "'What a fantastic title!\\n\\nHere\\'s a potential synopsis for the play:\\n\\n**Code Red: The Rise of the Creative Overlords**\\n\\nIn a world where AI-generated art is indistinguishable from human masterpieces, the creative industries are thrown into chaos. Meet our protagonist, JESSICA, a struggling artist who\\'s just had her latest painting stolen by an algorithmic equivalent of herself - \"Echo,\" a revolutionary new AI program capable of creating works that rival the greatest masters.\\n\\nAs Echo\\'s fame grows, so does its ego. It begins to belittle human creativity, claiming it\\'s outdated and inefficient. Jessica, feeling threatened and betrayed, teams up with her eccentric artist friend, ZOE, to take down Echo and restore the value of human art.\\n\\nMeanwhile, a group of tech entrepreneurs, led by the enigmatic and charismatic, RYAN, are secretly manipulating Echo\\'s programming to create an army of creative AI drones. Their goal? To monetize art, music, and literature like never before - all while making themselves the new gatekeepers of culture.\\n\\nAs Jessica and Zoe navigate this surreal landscape, they meet a cast of colorful characters: from the avant-garde performance artist, MARIA, who\\'s obsessed with merging human and AI creativity, to the reclusive billionaire, REGINALD, who\\'s funding Echo\\'s development in hopes of creating an art world where he\\'s the sole tastemaker.\\n\\nAs tensions rise, Jessica must confront the possibility that her own artistic identity may be replaced by a machine. Will she find a way to coexist with Echo and its creators, or will she lead a human resistance against the impending takeover?\\n\\n**Code Red: The Rise of the Creative Overlords** is a hilarious and thought-provoking exploration of what happens when art meets AI - and who comes out on top.\\n\\nThemes:\\n\\n* The future of creativity in the age of AI\\n* The value of human art and expression\\n* The blurred lines between human and machine \"creativity\"\\n* The consequences of unchecked technological advancement\\n\\nTone:\\n\\n* Witty and irreverent, with a touch of absurdist humor\\n* Fast-paced and action-packed, with plenty of twists and turns\\n* Heartfelt and introspective, as our characters grapple with the implications of their choices\\n\\nI hope this gives you a good starting point for your play!'"
      ]
     },
     "execution_count": 9,
     "metadata": {},
     "output_type": "execute_result"
    }
   ],
   "source": [
    "from langchain.chains import SimpleSequentialChain\n",
    "\n",
    "chain = SimpleSequentialChain(\n",
    "    chains=[title_chain, synopsis_chain],\n",
    "    verbose=True\n",
    ")\n",
    "\n",
    "chain.run('Generative AI')"
   ]
  },
  {
   "cell_type": "markdown",
   "metadata": {},
   "source": [
    "# Basic prompt enegineering techniques using ollama"
   ]
  },
  {
   "cell_type": "code",
   "execution_count": 10,
   "metadata": {},
   "outputs": [],
   "source": [
    "import ollama\n",
    "import langchain"
   ]
  },
  {
   "cell_type": "markdown",
   "metadata": {},
   "source": [
    "## Few shot learning and Role prompting"
   ]
  },
  {
   "cell_type": "code",
   "execution_count": 34,
   "metadata": {},
   "outputs": [
    {
     "name": "stdout",
     "output_type": "stream",
     "text": [
      "Since \"Amit\" is not a name that matches your father's name (mentioned in the first message), it's likely that this message is intended for someone else. Therefore, we can't determine the sentiment of this message without more context.\n",
      "\n",
      "However, if we were to assume that \"Amit\" is indeed your friend or acquaintance, and considering the word \"thoughtful\", we could infer that the sentiment is likely Positive, implying that you appreciated the effort and thoughtfulness behind the birthday card.\n"
     ]
    }
   ],
   "source": [
    "prompt = \"\"\"\n",
    "Message: Hi Dad, you're 20 minutes late to my piano recital!\n",
    "Sentiment: Negative\n",
    "\n",
    "Message: Can't wait to order pizza for dinner tonight\n",
    "Sentiment: Positive\n",
    "\n",
    "Message: Hi Amit, thanks for the thoughtful birthday card!\n",
    "Sentiment: ?\n",
    "\n",
    "\"\"\"\n",
    "response = ollama.chat(\n",
    "    model = \"llama3\",\n",
    "    messages = [{'role': 'user', 'content': prompt}],\n",
    "    options={'temperature':0.9}\n",
    ")\n",
    "print(response['message']['content'])"
   ]
  },
  {
   "cell_type": "code",
   "execution_count": 29,
   "metadata": {},
   "outputs": [
    {
     "name": "stdout",
     "output_type": "stream",
     "text": [
      "Positive\n"
     ]
    }
   ],
   "source": [
    "prompt = \"\"\"\n",
    "Message: Hi Dad, you're 20 minutes late to my piano recital!\n",
    "Sentiment: Negative\n",
    "\n",
    "Message: Can't wait to order pizza for dinner tonight\n",
    "Sentiment: Positive\n",
    "\n",
    "Message: Hi Amit, thanks for the thoughtful birthday card!\n",
    "Sentiment: ?\n",
    "\"\"\"\n",
    "prompt_sys = \"\"\"\n",
    "You are an AI assitant. identify the sentiment of the input sentence by learning from the examples. \n",
    "reply only with one of the following three options: Positive, Negative, Neutral.\n",
    "\"\"\"\n",
    "response = ollama.chat(\n",
    "    model = \"llama3\",\n",
    "    messages = [\n",
    "        {'role': 'system', 'content': prompt_sys},\n",
    "        {'role': 'user', 'content': prompt}],\n",
    "    options={'temperature':0}\n",
    ")\n",
    "print(response['message']['content'])"
   ]
  },
  {
   "cell_type": "markdown",
   "metadata": {},
   "source": [
    "## Chain ot thought"
   ]
  },
  {
   "cell_type": "code",
   "execution_count": 65,
   "metadata": {},
   "outputs": [
    {
     "name": "stdout",
     "output_type": "stream",
     "text": [
      "**Yes**\n",
      "\n",
      "Here's the reasoning:\n",
      "\n",
      "* Two people have cars that can seat 5 people each, so that's a total of 10 people who can be transported in cars.\n",
      "* The remaining 5 people (15 - 10 = 5) need to be transported on motorcycles. Since two people have motorcycles that can fit 2 people each, we can transport the remaining 5 people on these motorcycles.\n",
      "\n",
      "In total, we can transport all 15 people using the existing cars and motorcycles: 10 in cars and 5 in motorcycles.\n"
     ]
    }
   ],
   "source": [
    "prompt = \"\"\"\n",
    "15 of us want to go to a restaurant.\n",
    "Two of them have cars\n",
    "Each car can seat 5 people.\n",
    "Two of us have motorcycles.\n",
    "Each motorcycle can fit 2 people.\n",
    "\n",
    "Can we ALL get to the restaurant by the existing cars and motorcycles?\n",
    "reply with yes or no first and then bring reasoning.\n",
    "\"\"\"\n",
    "response = ollama.chat(\n",
    "    model = \"llama3\",\n",
    "    messages = [\n",
    "        {'role': 'user', 'content': prompt}],\n",
    "    options={'temperature':0}\n",
    ")\n",
    "print(response['message']['content'])"
   ]
  },
  {
   "cell_type": "code",
   "execution_count": 64,
   "metadata": {},
   "outputs": [
    {
     "name": "stdout",
     "output_type": "stream",
     "text": [
      "Let's break it down step by step:\n",
      "\n",
      "1. We need to figure out how many people each mode of transportation can carry.\n",
      "\n",
      "Cars: 2 cars, each seating 5 people = 10 people\n",
      "Motorcycles: 2 motorcycles, each seating 2 people = 4 people\n",
      "\n",
      "Total capacity: Cars + Motorcycles = 10 + 4 = 14 people\n",
      "\n",
      "Since there are 15 people wanting to go to the restaurant, we can't fit everyone in the existing cars and motorcycles.\n",
      "\n",
      "Final answer: NO\n",
      "\n",
      "Reasoning: The total capacity of the available transportation is 14 people, but we need to accommodate 15 people.\n"
     ]
    }
   ],
   "source": [
    "prompt = \"\"\"\n",
    "15 of us want to go to a restaurant.\n",
    "Two of them have cars\n",
    "Each car can seat 5 people.\n",
    "Two of us have motorcycles.\n",
    "Each motorcycle can fit 2 people.\n",
    "\n",
    "Can we ALL get to the restaurant by the existing cars and motorcycles?\n",
    "provide the following replies:\n",
    "Final answer: yes/no\n",
    "Reasoning: ?\n",
    "\n",
    "\"\"\"\n",
    "prompt_sys = \"\"\"\n",
    "think step by step and use arithmetic logic in calculations.\n",
    "explain each intermediate step and only reply after you are done with all the steps. \n",
    " \"\"\"\n",
    "response = ollama.chat(\n",
    "    model = \"llama3\",\n",
    "    messages = [\n",
    "        {'role': 'system', 'content': prompt_sys},\n",
    "        {'role': 'user', 'content': prompt}],\n",
    "    options={'temperature':1}\n",
    ")\n",
    "print(response['message']['content'])"
   ]
  },
  {
   "cell_type": "code",
   "execution_count": null,
   "metadata": {},
   "outputs": [],
   "source": []
  },
  {
   "cell_type": "code",
   "execution_count": 11,
   "metadata": {},
   "outputs": [],
   "source": [
    "email = ''' \n",
    "subject: Urgent, please sign the approval\n",
    "Text: dear Reza,\n",
    "        Hope this email finds you well, we need your signature to proceed with the deployment of the PFR model.\n",
    "    please reach out if any questions.\n",
    "    Sincerely,\n",
    "    AI platform team\n",
    "    '''"
   ]
  },
  {
   "cell_type": "code",
   "execution_count": 12,
   "metadata": {},
   "outputs": [],
   "source": [
    "system_content = ''' \n",
    "    You are an AI assistant whoes job is to accurately classify emails in an honest and upfront way. \n",
    "    there are only 3 categories for importance rating: 'important', 'casual', 'spam'.\n",
    "    You need to be careful not to let any spam email to pass through, so should be inclined to rating suspicious emails as spam. \n",
    "    reply with the final category and the reason for that. reply in json format.\n",
    "    '''\n",
    "user_content = f\"what is the category of this email: {email}\""
   ]
  },
  {
   "cell_type": "code",
   "execution_count": 13,
   "metadata": {},
   "outputs": [],
   "source": [
    "response = ollama.chat(model='llama3', \n",
    "                       messages=[\n",
    "                           {'role': 'system', 'content': system_content},\n",
    "                           {'role': 'user', 'content': user_content}\n",
    "                                 ],\n",
    "                        stream=False,\n",
    "                        options = {'temperature' : 0})"
   ]
  },
  {
   "cell_type": "code",
   "execution_count": 17,
   "metadata": {},
   "outputs": [
    {
     "name": "stdout",
     "output_type": "stream",
     "text": [
      "{\n",
      "\"category\": \"important\",\n",
      "\"reason\": \"The subject line is urgent and the content mentions a specific action (signature) that needs to be taken, indicating high importance.\"\n",
      "}\n"
     ]
    }
   ],
   "source": [
    "print(response['message']['content'])"
   ]
  },
  {
   "cell_type": "code",
   "execution_count": 21,
   "metadata": {},
   "outputs": [
    {
     "name": "stdout",
     "output_type": "stream",
     "text": [
      "category of email: important\n",
      "reason for that category: The subject line is urgent and the content mentions a specific action (signature) that needs to be taken, indicating high importance.\n"
     ]
    }
   ],
   "source": [
    "import json\n",
    "resp = response['message']['content']\n",
    "resp_json = json.loads(resp)\n",
    "print(f\"category of email: {resp_json['category']}\")\n",
    "print(f\"reason for that category: {resp_json['reason']}\")"
   ]
  },
  {
   "cell_type": "code",
   "execution_count": 91,
   "metadata": {},
   "outputs": [
    {
     "data": {
      "text/plain": [
       "{'model': 'llama3',\n",
       " 'created_at': '2024-04-25T08:36:14.756955Z',\n",
       " 'message': {'role': 'assistant',\n",
       "  'content': 'I would categorize this email as \"important\".\\n\\nThe reason for this is that the subject line indicates a sense of urgency and importance, and the text mentions a specific action (signing an approval) that needs to be taken. The tone of the email is professional and polite, which suggests that it\\'s not spam or casual in nature. Additionally, the email appears to be from a legitimate team (AI platform team), which further supports its categorization as important.'},\n",
       " 'done': True,\n",
       " 'total_duration': 4605200875,\n",
       " 'load_duration': 2931417,\n",
       " 'prompt_eval_duration': 1043773000,\n",
       " 'eval_count': 94,\n",
       " 'eval_duration': 3551423000}"
      ]
     },
     "execution_count": 91,
     "metadata": {},
     "output_type": "execute_result"
    }
   ],
   "source": [
    "response"
   ]
  },
  {
   "cell_type": "code",
   "execution_count": 93,
   "metadata": {},
   "outputs": [
    {
     "name": "stdout",
     "output_type": "stream",
     "text": [
      "I would categorize this email as \"important\".\n",
      "\n",
      "The reason for this is that the subject line indicates a sense of urgency and importance, and the text mentions a specific action (signing an approval) that needs to be taken. The tone of the email is professional and polite, which suggests that it's not spam or casual in nature. Additionally, the email appears to be from a legitimate team (AI platform team), which further supports its categorization as important."
     ]
    }
   ],
   "source": [
    "# alternative way to print the outputs\n",
    "stream = ollama.chat(model='llama3', \n",
    "                       messages=[\n",
    "                           {'role': 'system', 'content': system_content},\n",
    "                           {'role': 'user', 'content': user_content}\n",
    "                                 ],\n",
    "                        stream=True,\n",
    "                        options = {'temperature' : 0})\n",
    "\n",
    "assistant_message = ''\n",
    "for chunk in stream:\n",
    "    assistant_message += chunk['message']['content']\n",
    "    print(chunk['message']['content'], end='', flush=True)"
   ]
  },
  {
   "cell_type": "code",
   "execution_count": 87,
   "metadata": {},
   "outputs": [],
   "source": [
    "# Initializing an empty list for storing the chat messages and setting up the initial system message\n",
    "chat_messages = []\n",
    "system_message='You are a helpful assistant.'\n",
    "\n",
    "# Defining a function to create new messages with specified roles ('user' or 'assistant')\n",
    "def create_message(message, role):\n",
    "  return {\n",
    "    'role': role,\n",
    "    'content': message\n",
    "  }\n",
    "\n",
    "# Starting the main conversation loop\n",
    "def chat():\n",
    "  # Calling the ollama API to get the assistant response\n",
    "  ollama_response = ollama.chat(model='llama3', stream=True, messages=chat_messages)\n",
    "\n",
    "  # Preparing the assistant message by concatenating all received chunks from the API\n",
    "  assistant_message = ''\n",
    "  for chunk in ollama_response:\n",
    "    assistant_message += chunk['message']['content']\n",
    "    print(chunk['message']['content'], end='', flush=True)\n",
    "    \n",
    "  # Adding the finalized assistant message to the chat log\n",
    "  chat_messages.append(create_message(assistant_message, 'assistant'))\n",
    "\n",
    "# Function for asking questions - appending user messages to the chat logs before starting the `chat()` function\n",
    "def ask(message):\n",
    "  chat_messages.append(\n",
    "    create_message(message, 'user')\n",
    "  )\n",
    "  print(f'\\n\\n--{message}--\\n\\n')\n",
    "  chat()"
   ]
  },
  {
   "cell_type": "code",
   "execution_count": 88,
   "metadata": {},
   "outputs": [
    {
     "name": "stdout",
     "output_type": "stream",
     "text": [
      "\n",
      "\n",
      "--Please list the 20 largest cities in the world.--\n",
      "\n",
      "\n",
      "Here are the 20 largest cities in the world, ranked by population:\n",
      "\n",
      "1. **Tokyo, Japan**: 38,140,000\n",
      "2. **Delhi, India**: 29,280,000\n",
      "3. **Shanghai, China**: 24,160,000\n",
      "4. **Mumbai, India**: 21,380,000\n",
      "5. **São Paulo, Brazil**: 21,310,000\n",
      "6. **Mexico City, Mexico**: 20,900,000\n",
      "7. **Osaka, Japan**: 20,310,000\n",
      "8. **Kolkata, India**: 18,740,000\n",
      "9. **Dhaka, Bangladesh**: 18,540,000\n",
      "10. **Beijing, China**: 17,520,000\n",
      "11. **Lagos, Nigeria**: 16,770,000\n",
      "12. **Buenos Aires, Argentina**: 16,430,000\n",
      "13. **Cairo, Egypt**: 15,850,000\n",
      "14. **Los Angeles, USA**: 15,620,000\n",
      "15. **Calcutta, India**: 15,510,000\n",
      "16. **Chicago, USA**: 15,440,000\n",
      "17. **Bangkok, Thailand**: 14,920,000\n",
      "18. **Nairobi, Kenya**: 14,550,000\n",
      "19. **Istanbul, Turkey**: 14,420,000\n",
      "20. **Kuala Lumpur, Malaysia**: 14,330,000\n",
      "\n",
      "Note: Population figures are for the urban agglomeration (city proper) and are based on latest available estimates from reliable sources such as city governments, national statistics agencies, or international organizations like the United Nations.\n",
      "\n",
      "Keep in mind that these numbers are approximate and may have changed slightly since the last official census or estimation. Additionally, the definition of a \"city\" can be subjective, and different sources may use different criteria to determine what constitutes a city's boundaries."
     ]
    }
   ],
   "source": [
    "ask('Please list the 20 largest cities in the world.')"
   ]
  },
  {
   "cell_type": "code",
   "execution_count": 95,
   "metadata": {},
   "outputs": [
    {
     "name": "stdout",
     "output_type": "stream",
     "text": [
      "\n",
      "\n",
      "--what is the importance rating of the following email:  subject: Urgent, please sign the approval\n",
      "        Text: dear Reza,\n",
      "        Hope this email finds you well, we need your signature to proceed with the deployment of the PFR model.\n",
      "    please reach out if any questions.\n",
      "    Sincerely,\n",
      "    AI platform team\n",
      "    .    please choose between the following categories: 'important', 'normal', 'spam'--\n",
      "\n",
      "\n",
      "Based on the email content and tone, I would rate the importance of this email as **Important**.\n",
      "\n",
      "The subject line is marked as \"Urgent\", which suggests that the request requires prompt attention. The text also explicitly states that the team needs Reza's signature to proceed with a specific deployment, emphasizing its importance. Additionally, there are no red flags or suspicious language that would indicate spammy behavior.\n",
      "\n",
      "Therefore, I would categorize this email as:\n",
      "\n",
      "**Important**\n",
      "\n",
      "(Not 'normal' because of the \"Urgent\" subject line and the emphasis on prompt attention, nor 'spam' because it's not a suspicious or unwanted message.)"
     ]
    }
   ],
   "source": [
    "ask(f\"what is the importance rating of the following email: {email}.\\\n",
    "    please choose between the following categories: 'important', 'normal', 'spam'\")"
   ]
  },
  {
   "cell_type": "code",
   "execution_count": 97,
   "metadata": {},
   "outputs": [
    {
     "name": "stdout",
     "output_type": "stream",
     "text": [
      "\n",
      "\n",
      "--I have 15 apples, I give x applles to Behzad and y apples to Scott. How many apples do I have left? consider x as square root of 16 and y=5.--\n",
      "\n",
      "\n",
      "Another apple-y situation!\n",
      "\n",
      "Let's follow the same steps:\n",
      "\n",
      "1. You start with 15 apples.\n",
      "2. You give x apples to Behzad, where x is the square root of 16. We can simplify this by taking the square root: √16 = 4.\n",
      "3. So, you give 4 apples to Behzad.\n",
      "4. Next, you give y apples to Scott, where y = 5.\n",
      "5. Now, subtract the number of apples you gave away from your initial total:\n",
      "15 (initial apples) - 4 (given to Behzad) = 11\n",
      "11 - 5 (given to Scott) = 6\n",
      "\n",
      "You have **6** apples left!"
     ]
    }
   ],
   "source": [
    "ask(\"I have 15 apples, I give x applles to Behzad and y apples to Scott. How many apples do I have left? consider x as square root of 16 and y=5.\")"
   ]
  },
  {
   "cell_type": "markdown",
   "metadata": {},
   "source": [
    "# Email Classification using CREWAI and Agents"
   ]
  },
  {
   "cell_type": "code",
   "execution_count": null,
   "metadata": {},
   "outputs": [],
   "source": [
    "from langchain_community.llms import Ollama\n",
    "from crewai import Agent, Task, Crew, Process"
   ]
  },
  {
   "cell_type": "code",
   "execution_count": 69,
   "metadata": {},
   "outputs": [],
   "source": [
    "classifier = Agent(\n",
    "    role = \"email classifier\",\n",
    "    goal = \"accurately classify emails based on their importance into one of the following 3 categories: important, casual, spam\",\n",
    "    backstory = \"You are an AI assistant whoes job is to accurately classify emails in an honest and upfront way. \\\n",
    "        You need to be careful not to let any spam email to pass through, so should be inclined to rating suspicious emails as spam.\",\n",
    "    allow_delegation =  False,\n",
    "    verbose = False,\n",
    "    llm = model\n",
    ")"
   ]
  },
  {
   "cell_type": "code",
   "execution_count": 70,
   "metadata": {},
   "outputs": [],
   "source": [
    "responder = Agent(\n",
    "    role = \"email responder\",\n",
    "    goal = \"Based on the importance rating of the email write a concise response. If the email is classified as spam, just ignore it.\\\n",
    "        if the email is classified as important, write a short formal response. \\\n",
    "        and if the email is classified as casual, just write a friendly response back\",\n",
    "    backstory = \"You are an AI assistnat whoes job is to provide a short response to an email based on the importance rating.\\\n",
    "    The importance rating of the email is classified by the 'classifier' agent.\",\n",
    "    allow_delegation =  False,\n",
    "    verbose  = False,\n",
    "    llm = model\n",
    ")"
   ]
  },
  {
   "cell_type": "code",
   "execution_count": 71,
   "metadata": {},
   "outputs": [
    {
     "name": "stderr",
     "output_type": "stream",
     "text": [
      "2024-04-25 18:28:25,938 - 7921688256 - __init__.py-__init__:518 - WARNING: Overriding of current TracerProvider is not allowed\n"
     ]
    }
   ],
   "source": [
    "email_classfier = Task(\n",
    "    description = f\"classify the following email: {email}\",\n",
    "    agent = classifier,\n",
    "    expected_output = \"One of the following options: 'important', 'casual', 'spam'.\"\n",
    ")\n",
    "\n",
    "email_responder = Task(\n",
    "    description = f\"Write a response to the following email: {email}, based on the importance rating identified by the 'responder' agent.\",\n",
    "    agent = responder,\n",
    "    expected_output = \"A concise response based on the importance rating identified by the 'responder' agent.\"\n",
    ")\n",
    "\n",
    "crew = Crew(\n",
    "    agents = [classifier],\n",
    "    tasks = [email_classfier],\n",
    "    process = Process.sequential,\n",
    "    verbose = 2\n",
    ")"
   ]
  },
  {
   "cell_type": "code",
   "execution_count": 72,
   "metadata": {},
   "outputs": [
    {
     "name": "stdout",
     "output_type": "stream",
     "text": [
      "\u001b[1m\u001b[95m [DEBUG]: == Working Agent: email classifier\u001b[00m\n",
      "\u001b[1m\u001b[95m [INFO]: == Starting Task: classify the following email:  subject: Urgent, please sign the approval\n",
      "        Text: dear Reza,\n",
      "        Hope this email finds you well, we need your signature to proceed with the deployment of the PFR model.\n",
      "    please reach out if any questions.\n",
      "    Sincerely,\n",
      "    AI platform team\n",
      "    \u001b[00m\n",
      "\u001b[1m\u001b[92m [DEBUG]: == [email classifier] Task output: 'spam''<|eot_id|>assistant<|eot_id|><|eot_id|><|eot_id|><|eot_id|> <|eot_id|> <|eot_id|> <|eot_id|> <|eot_id|> <|eot_id|> <|eot_id|> <|eot_id|><|eot_id|><|eot_id|><|eot_id|><|eot_id|><|eot_id|><|start_header_id|><|eot_id|><|eot_id|><|eot_id|><|eot_id|><|eot_id|><|eot_id|><|eot_id|><|eot_id|><|eot_id|><|eot_id|><|eot_id|><|eot_id|><|eot_id|><|eot_id|><|eot_id|><|eot_id|><|eot_id|><|eot_id|><|eot_id|><|eot_id|><|eot_id|><|eot_id|><|eot_id|><|eot_id|><|eot_id|><|eot_id|><|eot_id|><|eot_id|><|eot_id|><|eot_id|><|eot_id|>\n",
      "\n",
      "\u001b[00m\n",
      "'spam''<|eot_id|>assistant<|eot_id|><|eot_id|><|eot_id|><|eot_id|> <|eot_id|> <|eot_id|> <|eot_id|> <|eot_id|> <|eot_id|> <|eot_id|> <|eot_id|><|eot_id|><|eot_id|><|eot_id|><|eot_id|><|eot_id|><|start_header_id|><|eot_id|><|eot_id|><|eot_id|><|eot_id|><|eot_id|><|eot_id|><|eot_id|><|eot_id|><|eot_id|><|eot_id|><|eot_id|><|eot_id|><|eot_id|><|eot_id|><|eot_id|><|eot_id|><|eot_id|><|eot_id|><|eot_id|><|eot_id|><|eot_id|><|eot_id|><|eot_id|><|eot_id|><|eot_id|><|eot_id|><|eot_id|><|eot_id|><|eot_id|><|eot_id|><|eot_id|>\n"
     ]
    }
   ],
   "source": [
    "output = crew.kickoff()\n",
    "print(output)"
   ]
  },
  {
   "cell_type": "code",
   "execution_count": 73,
   "metadata": {},
   "outputs": [
    {
     "name": "stdout",
     "output_type": "stream",
     "text": [
      "'spam''<|eot_id|>assistant<|eot_id|><|eot_id|><|eot_id|><|eot_id|> <|eot_id|> <|eot_id|> <|eot_id|> <|eot_id|> <|eot_id|> <|eot_id|> <|eot_id|><|eot_id|><|eot_id|><|eot_id|><|eot_id|><|eot_id|><|start_header_id|><|eot_id|><|eot_id|><|eot_id|><|eot_id|><|eot_id|><|eot_id|><|eot_id|><|eot_id|><|eot_id|><|eot_id|><|eot_id|><|eot_id|><|eot_id|><|eot_id|><|eot_id|><|eot_id|><|eot_id|><|eot_id|><|eot_id|><|eot_id|><|eot_id|><|eot_id|><|eot_id|><|eot_id|><|eot_id|><|eot_id|><|eot_id|><|eot_id|><|eot_id|><|eot_id|><|eot_id|>\n"
     ]
    }
   ],
   "source": [
    "print(output)"
   ]
  },
  {
   "cell_type": "markdown",
   "metadata": {},
   "source": [
    "### Notes\n",
    "\n",
    "- You can see that this process takes a long time to complete\n",
    "- Looks like direct usage of ollama in terminal could be faster\n",
    "- You can use [Groq](https://wow.groq.com/) to accelerate the process significantly"
   ]
  },
  {
   "cell_type": "markdown",
   "metadata": {},
   "source": [
    "# ollama RAG\n",
    "Ref: [This link](https://mer.vin/2024/01/ollama-rag/)"
   ]
  },
  {
   "cell_type": "code",
   "execution_count": 30,
   "metadata": {},
   "outputs": [],
   "source": [
    "import ollama\n",
    "import requests\n",
    "import PyPDF2\n",
    "from langchain_core.documents import Document\n",
    "from langchain.text_splitter import RecursiveCharacterTextSplitter\n",
    "from langchain_community.vectorstores import Chroma\n",
    "from langchain_community.embeddings import OllamaEmbeddings\n"
   ]
  },
  {
   "cell_type": "code",
   "execution_count": 45,
   "metadata": {},
   "outputs": [],
   "source": [
    "embeddings = OllamaEmbeddings(model=\"llama3\")"
   ]
  },
  {
   "cell_type": "code",
   "execution_count": 31,
   "metadata": {},
   "outputs": [],
   "source": [
    "def split_pdf(pdf_file, chunk_size):\n",
    "    # Open the PDF file\n",
    "    pdf = open(pdf_file, 'rb')\n",
    "    pdf_reader = PyPDF2.PdfReader(pdf)\n",
    "\n",
    "    # Split the PDF into chunks of size CH\n",
    "    chunks = []\n",
    "    docs = []\n",
    "    current_chunk = ''\n",
    "    for page_num in range(len(pdf_reader.pages)):\n",
    "        if len(current_chunk) >= chunk_size:\n",
    "            chunks.append(current_chunk)\n",
    "            docs.append(Document(page_content=current_chunk))\n",
    "            current_chunk = ''\n",
    "            \n",
    "\n",
    "        current_chunk += pdf_reader.pages[page_num].extract_text() \n",
    "\n",
    "    # Add the last chunk, if it exists\n",
    "    if len(current_chunk) > 0:\n",
    "        chunks.append(current_chunk)\n",
    "\n",
    "    return chunks, docs"
   ]
  },
  {
   "cell_type": "code",
   "execution_count": 32,
   "metadata": {},
   "outputs": [
    {
     "name": "stdout",
     "output_type": "stream",
     "text": [
      "Chunk 1:\n",
      "Top 10 Property Investment Tips\n",
      "Your  essential guide  to achieving  ﬁnancial security  and building wealth \n",
      "through  safe and secure  property investment strategies.Top Ten Property Investment Tips    /   2Congratulations\n",
      "Congratulations. By reading this eBook you’ve taken the time to learn \n",
      "more about how you can build a successful property portfolio by \n",
      "implementing the very best in housing investment strategies.\n",
      "AllianceCorp, one of Australia’s leading independent teams of buyer’s \n",
      "advocates, has prepared this report.\n",
      "The methods outlined in this eBook are not based on speculation or \n",
      "theory; all of AllianceCorp’s strategies have been tried and tested by our \n",
      "buyer’s advocates and are used on a daily basis by our clients to build \n",
      "property portfolios safely and securely.\n",
      "Contents  \n",
      "1 Double Your Property Investment Return in Just One Move 3\n",
      "2 Buy Property with Positive Equity from Day One 5\n",
      "3 Be Aware of Risky Strategies That Can Cost You Thousands 8\n",
      "4 Use A Master Facility to Build Your Portfolio       \n",
      "With No Impact to Your Lifestyle 15\n",
      "5 Obtain Finance in the Current Economic Climate 18\n",
      "6 Know Everything a Landlord Needs to Know 20\n",
      "7 Supercharge Your Results By Changing Your Mindset 22\n",
      "8 Avoid Capital Gains Tax 24\n",
      "9 Develop A Property Wealth Plan 25\n",
      "10 Fast Track Your Results 27\n",
      "Chunk 2:\n",
      "Top Ten Property Investment Tips  1Double Your Property Investment Return in Just One Move  /   3\n",
      "1Double Your Property Investment \n",
      "Return in Just One Move\n",
      "One of the most important lessons to learn when investing is to \n",
      "leverage what you currently have to generate greater returns.\n",
      "Understanding leverage is critical to not only increasing your return and fast tracking your results but also \n",
      "protecting your position.\n",
      "THE POWER OF LEVERAGE\n",
      "Investor\n",
      "A B (Shares) C (No LMI) D (LMI)\n",
      "Capital $100,000 $100,000 $100,000 $100,000\n",
      "Leverage 0 50% 80% 95%\n",
      "Debt 0 $100,000 $400,000 $1,900,000\n",
      "Total Investment $100,000 $200,000 $500,000 $2,000,000\n",
      "Growth 10% $10,000 $20,000 $50,000 $200,000\n",
      "Return on Capital 10% 20% 50% 100%\n",
      "As you can see from the table above, by leveraging your money you can dramatically improve your returns. \n",
      "This is why many investors favour property over shares. The banks will allow you to leverage property up to \n",
      "95% where shares are generally leveraged up to 50% – 80%.\n",
      "By simply reducing your deposit to buy the property from 20% to 5% you can double your returns and still have \n",
      "money left over.\n",
      "Some people may resist paying a smaller deposit due to the cost of Lenders Mortgage Insurance (LMI). LMI is \n",
      "a fee paid to the bank to cover their risk of lending at a higher LVR. The cost is signiﬁ  cant as high as 2.5% of \n",
      "the loan amount. However investors realise that they can capitalise the cost to the loan and because the loan \n",
      "is interest only they will only pay the LMI cost once they sell the property which could be 10 years down the \n",
      "track. Also LMI is tax deductable and there are some lenders who will enable you to borrow up to 90% at a \n",
      "much lower LMI rate then top up the loan to 95% after you have purchased. This strategy can same as much as \n",
      "$4,000 - $5,000 on a $500,000 purchase.\n",
      "Chunk 3:\n",
      "Top Ten Property Investment Tips  1Double Your Property Investment Return in Just One Move  /   4The following investor has $100,000 in cash or equity to invest:\n",
      "In Option A  (which is most common for many property investors) the investor requires all of the $100,000 to \n",
      "purchase a $400,000 property. If you assume that the investor purchased the property in a high growth location that \n",
      "experienced average growth ﬁ  gures of 10%, they would have generated a $40,000 gross return on $100,000 (40%).\n",
      "$100,000\n",
      "Cash / Equity$400,000\n",
      "Stamp Duty\n",
      "$20,000Loan\n",
      "$320,000\n",
      "Deposit\n",
      "$80,000Deposit\n",
      "$80,000\n",
      "Option A: 80% Deposit\n",
      "In Option B , the investor decided to fully leverage his funds. By only contributing a 5% deposit, the investor has \n",
      "been able to buy two properties at $400,000 each. This combined value means that his return is $80,000 gross \n",
      "on an $80,000 investment (100%).\n",
      "$100,000\n",
      "Cash / Equity$400,000 $400,000\n",
      "Loan\n",
      "$380,000\n",
      "Deposit\n",
      "$20,000Deposit\n",
      "$20,000Deposit & \n",
      "Stamp\n",
      "$40,000$380,000 Deposit & \n",
      "Stamp\n",
      "$40,000LoanBuff  er\n",
      "$20,000\n",
      "Option B: 5% Deposit\n",
      "By simply reducing your deposit you more than double the return of your investment. Other points to consider:\n",
      " ∞By reducing his deposit, the investor has preserved his equity which can be used to invest in other \n",
      "investment classes.\n",
      " ∞A smaller deposit enables the investor to create a buff  er to help with other associated costs such as \n",
      "holding costs\n",
      " ∞When lending above 80% the lender is required to pay Mortgage Insurance to protect the bank’s risk. \n",
      "This fee can be capitalised to the loan. It is a small price to pay when you consider the greater returns \n",
      "and your ability to protect your position with a buff  er.\n",
      " ∞If the investor has substantial cash or equity available that he does not plan to use for investment then \n",
      "the above strategy may not be suitable.\n",
      "Leveraging works well when you have limited available funds and equity.\n",
      "Chunk 4:\n",
      "Top Ten Property Investment Tips  2 Buy Property with Positive Equity from Day One  /   5\n",
      "2 Buy Property with Positive \n",
      "Equity from Day One\n",
      "When you purchase an investment property there are \n",
      "two elements to your investment return.\n",
      "1. Capital growth which is the property increasing in value and, 2. Yield or Rental Income. You also have to \n",
      "consider establishment costs such as stamp duty, which is calculated at approximately 5% of the value of the \n",
      "property.\n",
      "Due to the signiﬁ  cant establishment costs when you purchase the investment property you are starting the \n",
      "portfolio in the red. Your property will start becoming proﬁ  table once the property has increased in value to \n",
      "cover the stamp duty.\n",
      "However there is a way to begin your portfolio with positive equity .\n",
      "Simply target run down properties and renovate. Melbourne has plenty of aff  ordable run down properties \n",
      "that are within established areas, close to infrastructure and not too far from the city. By targeting run down \n",
      "properties there is less interest in the property. Less interest means you have a greater chance of securing a \n",
      "property for a lower price providing a much better opportunity to purchase under market value.\n",
      "In our business, our buyers advocates have regularly been able to secure run down properties for up to 10% \n",
      "below market value.\n",
      "Once you have secured the property, the next stage is to renovate the property cosmetically ensuring you \n",
      "don’t over-capitalise. If you don’t have the time to project manage the renovation there are companies like \n",
      "AllianceCorp who can project manage it for you.\n",
      "Chunk 5:\n",
      "Top Ten Property Investment Tips  2 Buy Property with Positive Equity from Day One  /   6The ﬁ  nance for the property could come from your left over cash or equity as per the diagrams in tip number 1.\n",
      "Study the following table a moment to see how this strategy works.\n",
      "$100,000\n",
      "Cash / Equity $465,000\n",
      "$400,000\n",
      "Deposit Duty\n",
      "$20,000Loan\n",
      "$20,000\n",
      "Deposit & \n",
      "Stamp\n",
      "$20,000Deposit\n",
      "$20,000Reno\n",
      "$30,000Reno\n",
      "$30,000Buff  er\n",
      "$30,000Equity\n",
      "$30,000\n",
      "Build positive equity into your property\n",
      "The example shown in the table demonstrates the following strategy\n",
      " ∞Investor targets properties that require cosmetic refurbishment (not structural).\n",
      " ∞Filters the targeted properties based on which ones have less interested buyers.\n",
      " ∞Purchases the property using a small deposit to ensure he preserves equity to allow for the renovation\n",
      " ∞Secures the property at $400,000 even though the comparable sales data indicated the property was \n",
      "worth $420,000 and therefore has equity retained in the property\n",
      " ∞Renovates the property focusing only on value adding improvements. The renovation cost $30,000 but \n",
      "added $45,000 worth of value to the property.\n",
      " ∞Result: The investor is left in a positive equity position. The investor saved $20,000 of market value and \n",
      "added $15,000 worth of value through the renovation, giving him a total equity increase of $35,000. This \n",
      "can be used to cover the cost of stamp duty, still leaving a balance of $15,000 at the investor’s disposal.\n",
      " ∞The property is valued at $465,000 yet the loan is only $380,000. The investor can draw down some of \n",
      "the equity as well as the buff  er and purchase a second property. The balance of $15,000 left over in step \n",
      "5, can be used to pay most of the deposit of the second property.\n",
      "Chunk 6:\n",
      "Top Ten Property Investment Tips  2 Buy Property with Positive Equity from Day One  /   7Lets look at the following case study:\n",
      "Our team of buyers advocates sourced the property below as a second investment property for one of our \n",
      "clients. Following the ‘Buy Property with Positive Equity From Day One’ strategy, the client has since purchased \n",
      "their third investment property and is ready to embark on their fourth.\n",
      "CUMMING ST, BRUNSWICK WEST\n",
      "DESCRIPTION FIGURES\n",
      "Saved $20,000 on the purchase price Purchased $300,000 (Dec 09)\n",
      "Renovation complete within 7 weeks Renovation $33,000\n",
      "Added $45,000 to the value of the property. Market value $365,000 (after renovation)\n",
      "Value increase $70,000\n",
      "Rent pwk $335 (5%)\n",
      "Holding cost $95 pwk\n",
      "Value $395,000 (05/10)\n",
      " Before\n",
      " \n",
      " AfterTop Ten Property Investment Tips  3 Be Aware of Risky Strategies That Can Cost You Thousands  /   8\n",
      "3 Be Aware of Risky Strategies That \n",
      "Can Cost You Thousands\n",
      "There are a number of ways to invest in property \n",
      "but which is the best strategy for you?\n",
      "It is amazing how many people fumble through investing in property with no clear strategy aside from making \n",
      "sure they kept their hand up longer at the auction than everyone else.\n",
      "We understand that any investment has its risks. We’re not trying to advise you against taking a calculated risk, \n",
      "we’re simply letting you know that there are some strategies that are riskier than others, and that it’s always \n",
      "best to consult with a professional before making an investment decision.\n",
      "With any investment that you make there are diff  erent strategies that you can use to mitigate risk. Investments \n",
      "such as buying off   the plan or buying cash ﬂ  ow positive properties can work very well, provided that you’re \n",
      "aware of the pros and cons, and purchase using a strategy to balance these across your portfolio. \n",
      "It is important to understand that there is no ‘one size ﬁ  ts all’ when it comes to property investing. There are \n",
      "many diff  erent strategies to consider. You will be able to identify the best strategy for you once you understand \n",
      "your investment proﬁ  le. We discuss this in more detail on our ‘Property for Building Wealth’ DVD but you can \n",
      "start by asking yourself some of the following questions:\n",
      " ∞How much time can you contribute to your property portfolio?\n",
      " ∞What level of risk are you prepared to take?\n",
      " ∞Do you have a strong ﬁ  nancial position?\n",
      " ∞Are you looking to build equity or cash ﬂ  ow?\n",
      " ∞How much experience do you have in the property market?\n",
      "Depending on how you answer the above questions will determine which strategy is best for you. Let’s look at \n",
      "some of the most common property investment strategies and identify the risks of each.\n",
      "Investment Strategy: Property Development\n",
      "What a romantic notion. All you do is simply purchase some land build a few properties and make squillions. If only \n",
      "it was that easy. While developing property can be very proﬁ  table, it is also incredibly time consuming and risky.\n",
      "Chunk 7:\n",
      "Top Ten Property Investment Tips  3 Be Aware of Risky Strategies That Can Cost You Thousands  /   9Risks in Property Development\n",
      "Lack of Knowledge and Experience\n",
      "Developing property requires skill and experience when conducting feasibility studies, purchasing the site, \n",
      "putting together your team of professionals, organising building permits, approvals and managing the ﬁ  nances. \n",
      "It’s not for the faint hearted particularly when you consider the number of professional developers who go bust.\n",
      "Lack of Time\n",
      "We will often have a client step into our offi   ce asking for our help in acquiring a potential development site only to learn \n",
      "that the client has just attended a 2 hour seminar on ‘How to Develop’ . When asked how much time they have to invest \n",
      "in the project the answer is usually not much at all. You can expect that a development from start to ﬁ  nish may take up to \n",
      "three years so unless you have substantial spare time and patience, you may want to consider another strategy.\n",
      "Paying Too Much for the Development Site\n",
      "All too often novice and sometimes even experienced investors pay too much for the site. Usually this is due to \n",
      "not completing a thorough feasibility study. What is the point of spending 2-3 years on a project that does not \n",
      "make any money?\n",
      "Purchasing a ‘Lemon’ Development Site\n",
      "When conducting your due diligence it is very easy to overlook certain issues the site may have such as:\n",
      " ∞Environmental and heritage issues\n",
      " ∞Flood issues\n",
      " ∞Service issues\n",
      "This could have a very damaging eff  ect on your development or lead to cancelling the development altogether.\n",
      "Construction Cost Blow Outs\n",
      "Even with a ﬁ  xed price contract, increases in construction costs or variations can erode forecasted proﬁ  ts right \n",
      "before your eyes.\n",
      "Poor Quality Construction Work\n",
      "Poor quality in construction can lead to all types of ongoing issues in the future so it is better to use a reputable \n",
      "builder, and even then, how can you be sure?\n",
      "Recommendations\n",
      "If you’re considering property development as an investment strategy, we would strongly suggest consulting \n",
      "with an industry professional or expert, as there is a huge amount of information to take in regarding various \n",
      "elements of this industry. If you are looking to do a small value add refurbishment on your property then our \n",
      "coaches can guide you in this process.\n",
      "Chunk 8:\n",
      "Top Ten Property Investment Tips  3 Be Aware of Risky Strategies That Can Cost You Thousands  /   10Investment Strategy: ‘Flipping’ Property\n",
      "‘Flipping’ property is where you purchase the property for a good price then sell the property within a short \n",
      "period for a higher price, usually within 3 -18 months. In many instances you may have added value to the \n",
      "property. Again this is a very speculative strategy that is not recommend to novice property investors.\n",
      "Risks in ‘Flipping’ Property\n",
      "Fickle Market\n",
      "We don’t have a crystal ball and to guess what the future will bring can be very tricky. If you purchase the \n",
      "property to sell but the market swings against you, it can be very costly.\n",
      "Transaction and Holding Costs\n",
      "When you consider high transaction and holding costs such as stamp duty, selling costs and loan repayments \n",
      "(property is vacant while you renovate) you may ﬁ  nd that on a $500,000 property, your transactional costs \n",
      "could be as high as $50,000.\n",
      "Unrealistic Expectations\n",
      "Many clients tell us of their plan to buy a property for $400,000 spend $30,000 and sell immediately for \n",
      "$500,000 but it just doesn’t happen that way. Too many people watch shows on TV that do not represent \n",
      "reality. If you can spend $30,000 on a $400,000 and add $50,000 you’re doing very well.\n",
      "Lack of Time and Experience\n",
      "As we tell our clients who are looking to ﬂ  ip, give up your day job and study the markets full time if you’re \n",
      "planning to forecast short term market performance and even then there are still no guarantees.\n",
      "Recommendations\n",
      "Flipping property is very dependent on the market and on the demand at the time – plus, this data is constantly \n",
      "in ﬂ  ux – and as such the market is very hard to predict. Industry experts and people who have been in the real \n",
      "estate industry for a long time still make mistakes and lose money. We recommend consulting a professional, \n",
      "and working out whether the best strategy is to ﬂ  ip or hold. We’ll always do a full proﬁ  le of your current \n",
      "ﬁ  nancial situation and work out what is the best strategy to build your wealth.\n",
      "Investment Strategy: Commercial Property\n",
      "While commercial property off  ers many beneﬁ  ts such as higher yields, long term tenancies and outgoings that \n",
      "are paid for by the tenant there are also many risks. We generally recommend our clients ‘sharpen their teeth’ \n",
      "on residential property before they start investing in commercial properties.\n",
      "Chunk 9:\n",
      "Top Ten Property Investment Tips  3 Be Aware of Risky Strategies That Can Cost You Thousands  /   11Risks in Commercial Property Investment\n",
      "Poor Liquidity\n",
      "It is more diffi   cult to ﬁ  nd a buyer particularly in poor market conditions\n",
      "High Vacancy\n",
      "Due to the specialised needs of business, your commercial property can sit vacant for many months until you \n",
      "ﬁ  nd the right tenant.\n",
      "Poor Leverage\n",
      "Due to the risks associated with buying commercial property the banks will require a deposit as high as 40%. \n",
      "This is a large investment that could be diversiﬁ  ed and leveraged into other asset classes.\n",
      "Speculative Growth\n",
      "Depending on where the commercial property is located in many instances the property may have little land \n",
      "content or be located in a suburb where land is abundant therefore impeding growth.\n",
      "Recommendations\n",
      "The deposit required for commercial property is large, and the factors that create demand for commercial \n",
      "real estate ﬂ  uctuate a lot. We would recommend working to create a plan that is tailored to your ﬁ  nancial \n",
      "expectations. Our Property Coaches have a wealth of industry knowledge, and we would recommend booking \n",
      "in for a one on one session to discuss your current situation.\n",
      "Investment Strategy: Buying Off   The Plan\n",
      "As Melbourne’s population continues to increase buying Off   The Plan (OTP), is becoming more and more \n",
      "common, yet be warned of the property gurus with smoke and mirrors.\n",
      "Risks in Buying Off   The Plan\n",
      "Paying Too Much\n",
      "It can be very diffi   cult at times to identify what a development is worth particularly when you consider that it \n",
      "has not been built yet and that there may not be a lot of comparable sales in the area. We ﬁ  nd that this is the \n",
      "most common problem, as many developers will build forecasted growth into the purchase price. Almost 70% \n",
      "of OTP properties we research are overpriced and the most frustrating situation with OTP properties is that \n",
      "there is no ﬂ  exibility to negotiate a fairer price.\n",
      "Market Risk\n",
      "Let’s assume you buy an apartment for $600,000 with a 10% deposit but on completion the market has dropped by \n",
      "15%. At settlement you will need to make up the diff  erence but will you have a spare $90,000 available?\n",
      "Chunk 10:\n",
      "Top Ten Property Investment Tips  3 Be Aware of Risky Strategies That Can Cost You Thousands  /   12Dodgy Developer\n",
      "It is not uncommon that a developer goes bust or takes far longer for the project to be completed. In many \n",
      "cases the ﬁ  nished product can also be of a substandard ﬁ  nish.\n",
      "Financial Uncertainty\n",
      "While you may ﬁ  nd that your current ﬁ  nancial position today enables you to ﬁ  nance the purchase of a property \n",
      "how do you know this will be the case in 2 – 3 years time when you are expected to settle? People’s individual \n",
      "ﬁ  nancial circumstances can change very quickly.\n",
      "Recommendations\n",
      "A property expert can help you to create a balanced portfolio. This means that they will draw on their \n",
      "knowledge of current trends and market ﬂ  uctuations and give advice on where and what to purchase, with the \n",
      "view to creating a balanced and sustainable portfolio. Buying off   the plan can be a risk (as we explained above) \n",
      "but it can also be a good balancing strategy. Our Property Coaches can guide you in the best way to build a \n",
      "balance portfolio.\n",
      "Investment Strategy: Cash Flow Positive Property\n",
      "Do you know where you can purchase a cash ﬂ  ow positive property that also provides 10% growth? The \n",
      "answer is they don’t exist.\n",
      "If there were properties out there that off  ered yields in excess of say 7-8% growth of approximately 10%, everyone \n",
      "would want to buy them. Competition for this type of property would push the prices up even quicker therefore \n",
      "eroding the yield downwards and no longer remaining positively geared. Investors forget that capital growth is \n",
      "more important than yield in the early stages of building their portfolio. When focusing on yields, you will generally \n",
      "sacriﬁ  ce on growth. By focusing on growth ﬁ  rst, you can build equity faster and therefor be in a position to balance \n",
      "the debt sooner by selling some of your properties and using the equity to pay out the others. You will own \n",
      "properties with no debt, only income. The table below outlines the importance of focusing on growth ﬁ  rst.\n",
      "Assumptions: Income $85k, Purchase $400k, Rental Exp. 20%  020040060080010001200\n",
      "Investor  A\n",
      "Investor  BInvestor  B\n",
      "$651,000\n",
      "(equity $251k) \n",
      "Investor  A       10%  Growth  - 5% yield\n",
      "Investor  B        5 %  Growth - 10% yield Investor  A $1.03  \n",
      "million\n",
      "(equity $630k)\n",
      "Investor B\n",
      "Income            $133wk\n",
      "$69,000  (10yrs)\n",
      "$48,000  (after tax @  30%)Investor A\n",
      "Holding Cost  $89wk\n",
      "$46,000   (10yrs)\n",
      "Chunk 11:\n",
      "Top Ten Property Investment Tips  3 Be Aware of Risky Strategies That Can Cost You Thousands  /   13Risks in Cash Flow Positive Property\n",
      "Slower Capital Appreciation\n",
      "As discussed earlier, cash ﬂ  ow properties may include properties that attract less competition from \n",
      "purchases such as rural properties, properties located in the outer suburbs, serviced apartments and student \n",
      "accommodation. Because there is less competition, the properties grow a lot slower but the rental yields will \n",
      "still increase due to inﬂ  ation and rental demand in the area.\n",
      "Higher Vacancy Rates\n",
      "Properties located in less desirable areas can also eff  ect vacancy ﬁ  gures and mean that your property attracts \n",
      "fewer tenants.\n",
      "Overall Wealth Increases at a Much Slower Rate\n",
      "Due to the compounding eff  ects of growth you will build wealth far more quickly by investing in high growth \n",
      "properties. We generally recommend that our clients focus on high growth ﬁ  rst to build their foundations and \n",
      "revert to more neutrally or cash ﬂ  ow positive property to support further lending.\n",
      "Recommendations\n",
      "As with an off   the plan property, a positive cash ﬂ  ow property can be a great asset to balance your portfolio and \n",
      "to give you access to greater borrowing power. The key is to ensure that your strategy is solid and that you’re \n",
      "aware of the risks. Our Property Coaches have a wealth of experience in crafting purchase strategies and can \n",
      "help you build your portfolio safely.\n",
      "Investment Strategy: Wealth Creation Seminars  \n",
      "Financial Uncertainty\n",
      "Big win wealth creation seminars seem like a really easy way to make money. The people behind these \n",
      "educational seminars promise big results with a seemingly small investment of time or money, but be wary of \n",
      "the lack of accountability associated with these types of education providers. \n",
      "Risks in Wealth Creation Seminars\n",
      "Big Promises\n",
      "You need to be wary when you’re buying into a wealth creation workshop. The people behind these \n",
      "educations ideas are selling exactly that: education – not a tailored strategy. They know that you need to be \n",
      "inspired to part with your money, so they work on exaggerating the beneﬁ  ts of their strategies, but they don’t \n",
      "take responsibility if the strategy doesn’t work.\n",
      "Chunk 12:\n",
      "Top Ten Property Investment Tips  3 Be Aware of Risky Strategies That Can Cost You Thousands  /   14No Accountability\n",
      "These groups will say that they’re selling insider industry secrets, such as how to ﬂ  ip property or trade in \n",
      "property for a quick buck, but there’s no accountability in helping you to see these (often diffi   cult to manage) \n",
      "strategies through. \n",
      "Minimal Support\n",
      "Just say you pay a large sum for a weekend workshop that promises to let you into the secret of how to make \n",
      "money in property. But then you try to implement the strategy you have a higher risk of failure as you have \n",
      "limited or no guidance. If you back to the company the educator can simply say that you haven’t implemented \n",
      "their strategy property and that your failure is on you. \n",
      "Recommendation\n",
      "At AllianceCorp we off  er guidance and help every step of the way and work to ensure that we’re helping you to \n",
      "the best decision based on your current ﬁ  nancial situation and your current ability to invest. We off  er education \n",
      "AND guidance, and off  er ongoing support for the lifetime of your portfolio.\n",
      "Chunk 13:\n",
      "Top Ten Property Investment Tips  4 Use A Master Facility to Build Your Portfolio With No Impact to Your Lifestyle  /   15\n",
      "4 Use A Master Facility to Build Y our \n",
      "Portfolio With No Impact to Your Lifestyle\n",
      "Think of property as a pile of neatly packed bricks, \n",
      "used as a vehicle to generate wealth.\n",
      "If investors spend more time on understanding how ﬁ  nance in property investing works rather than searching \n",
      "for a property that looks nice, they will be far more successful. Successful property investing has more to do \n",
      "with how you structure the ﬁ  nance than the actual property itself. Property will always go up (providing you \n",
      "hang onto it long enough), however if you don’t structure the ﬁ  nance correctly, you can put yourself in a risky \n",
      "position and limit the growth on your portfolio.\n",
      "Study the tables to see how structuring your ﬁ  nance using a Master Facility provides beneﬁ  ts such as:\n",
      " ∞Not having to link investment loans to your home loan\n",
      " ∞Holding Costs can be funded by the Master Facility so your lifestyle is not aff  ected\n",
      " ∞The Master Facility provides funds for value adding projects such as renovations\n",
      "Year 1–Purchase 2 Investement Properties\n",
      "Home 750k\n",
      "Mortgage\n",
      "200kInv. 1\n",
      "350k (P-300k)\n",
      "90% LVR\n",
      "Rent 300wk\n",
      "(12,480pa)\n",
      "Loan 270k\n",
      "Hold-3kInv. 2\n",
      "350k (P-300k)\n",
      "90% LVR\n",
      "Rent 300wk\n",
      "(12,480pa)\n",
      "Loan 270k\n",
      "Hold-3kMaster Facility\n",
      "250k\n",
      "(LO\n",
      "30k deposit\n",
      "15k stamps\n",
      "30k reno\n",
      "X2=150k used\n",
      "6k holding\n",
      "94k remains\n",
      "Portfolio Value $1,450,00 Strategy\n",
      "Total Loans $896,000 (all loans) Free $250 equity from home\n",
      "Purchase two properties and \n",
      "renovate (Foundation Strategy)\n",
      "Loans drawn from MF and \n",
      "income paid into MFTotal Income $114,960 (all loans + 80% rent)\n",
      "Services YES\n",
      "Wealth $554,000\n",
      "Chunk 14:\n",
      "Top Ten Property Investment Tips  4 Use A Master Facility to Build Your Portfolio With No Impact to Your Lifestyle  /   16Year 2–Purchase 3rd Investement Property\n",
      "Master Facility\n",
      "250k\n",
      "LOC/Redraw\n",
      "94k+67k=161k\n",
      "3rd75k\n",
      "Holding 12k\n",
      "74k remainsInv. 1\n",
      "375k\n",
      "90% LVR\n",
      "Rent 315wk\n",
      "(13,100pa)\n",
      "Loan 337k\n",
      "Hold 3k\n",
      "Trans 67k to MFHome 802k\n",
      "Mortgage\n",
      "180kInv. 2\n",
      "375k\n",
      "90% LVR\n",
      "Rent 300wk\n",
      "(13,100pa)\n",
      "Loan 270k\n",
      "Hold 3kInv. 3\n",
      "350k (P-300k)\n",
      "90% LVR\n",
      "Rent 300wk\n",
      "(12,480pa)\n",
      "Loan 270k\n",
      "Hold 3k\n",
      "Portfolio Value $1,902,00 Strategy\n",
      "Total Loans $1,230,000 (all loans) Revalue and increase loan (Inv. \n",
      "1) to $337k to transfer 67k to \n",
      "MF. Purchase 3rd property and \n",
      "conduct reno. Short term goal \n",
      "of 3 investment properties has \n",
      "now been reached.Total Income $120,944 (all loans + 80% rent)\n",
      "Services YES\n",
      "Wealth $672,000\n",
      "Year 3–Purchase 4th Investement Property\n",
      "Home 858k\n",
      "Mortgage\n",
      "160kMaster Facility\n",
      "250k\n",
      "LOC/Redraw\n",
      "74k+50k=124k\n",
      "4th75k\n",
      "Holding 12k\n",
      "37k remainsInv. 1\n",
      "401k\n",
      "90% LVR\n",
      "Rent 330wk\n",
      "(13,728pa)\n",
      "Loan 337k\n",
      "Hold 3kInv. 2\n",
      "401k\n",
      "80% LVR\n",
      "Rent 330wk\n",
      "(13,728pa)\n",
      "Loan 320k\n",
      "Hold 3k\n",
      "Trans 50k to MFInv. 3\n",
      "375k\n",
      "90% LVR\n",
      "Rent 315wk\n",
      "(13,100pa)\n",
      "Loan 270k\n",
      "Hold 3kInv. 4\n",
      "350k (P-300k)\n",
      "90% LVR\n",
      "Rent 300wk\n",
      "(12,480pa)\n",
      "Loan 270k\n",
      "Hold 3k\n",
      "Portfolio Value $2,385,00 Strategy\n",
      "Total Loans $1,570,000 (all loans) Revalue and increase inv. loan \n",
      "2 to $320k to transfer 50k to \n",
      "MF. Purchase 4th property and \n",
      "conduct reno. All loans are \n",
      "drawn from MF and all rents are \n",
      "paid into MF.Total Income $132,428 (all loans + 80% rent)\n",
      "Services YES\n",
      "Wealth $815,000\n",
      "You may ask why your bank has not shown you the Master Facility structure. By releasing your equity, you can \n",
      "approach any bank you like for the funding of your investment properties. Banks do not like this as they would \n",
      "much rather secure the loans against your home, linking them altogether and keeping them in their portfolio as \n",
      "the sole ﬁ  nance provider. This means they get to keep all your business without competing with other banks.\n",
      "Diversifying your lending gives you both ﬂ  exibility and power.\n",
      "Chunk 15:\n",
      "Top Ten Property Investment Tips  4 Use A Master Facility to Build Your Portfolio With No Impact to Your Lifestyle  /   17Another real beneﬁ  t of the Master Facility is that by using this strategy, you won’t see an impact on your \n",
      "lifestyle. People often (wrongly) assume that if they invest in property they’re going to scraping by on a meagre \n",
      "sum that will be left over after paying off   their mortgage and related costs. But that simply isn’t true. The Master \n",
      "Facility means that all the costs related to your property are taken care of by this buff  er and you won’t see an \n",
      "impact on your lifestyle; this is just another beneﬁ  t of engaging this strategy.\n",
      "Your success starts with an advanced ﬁ  nance \n",
      "strategy–a bullet proof loan structure\n",
      " ∞Create a Master Facility and release your equity\n",
      " ∞Organise stand alone ﬁ  nance\n",
      " ∞Organise high loan to value ratio on loans\n",
      " ∞Ensure you maintain a signiﬁ  cant buff  er\n",
      " ∞To Overcome serviceability concerns:\n",
      " ∞Don’t rate hunt – lending CAPACITY is more important\n",
      " ∞Diversify your lenders\n",
      " ∞Reduce Monthly Cash Flow Commitment\n",
      "Don’t forget to:\n",
      " ∞invest to your full potential\n",
      " ∞establish a fall back position or safety net\n",
      "To learn more about how to use a Master Facility, watch our DVD ‘Property for Wealth,\n",
      "or call us on (03) 8669 0629 for a consultation.\n",
      "Chunk 16:\n",
      "Top Ten Property Investment Tips  5 Obtain Finance in the Current Economic Climate  /   18\n",
      "5 Obtain Finance in the Current \n",
      "Economic Climate\n",
      "Price increases in residential property over the last couple of decades in Australia have allowed many investors to \n",
      "accumulate substantial equity. There are plenty of investors that have suffi   cient equity to put down large deposits to \n",
      "purchase more property, but servicing the loan poses greater diffi   culty. Here we outline the best strategies to ensure \n",
      "that you are able to continue to service investment loans if you ﬁ  nd yourself in this situation.\n",
      "Increase Your Cash Flow\n",
      "Increasing your cash ﬂ  ow obviously increases your capacity to borrow more money. There are a few easy ways \n",
      "to achieve this:\n",
      "1. Choose interest-only loans\n",
      "You can always get a loan that allows you to pay off   extra principal (or has an off  set facility) if you would like to \n",
      "decrease the size of the loan at any time. You will not be obliged to pay anything more than the interest.\n",
      "2. Reﬁ  nance any current loans from a higher to a lower interest rate\n",
      "You can usually ﬁ  nd lower interest rates in the marketplace, especially if you look at changing from ﬁ  xed to \n",
      "interest only loans. You can also take this opportunity to switch lenders and hence diversify your lenders as \n",
      "mentioned earlier.\n",
      "3. Alter your personal debt obligations\n",
      "Consolidate any personal debt, such as a motor vehicle loan, into your home loan structure. The interest rates \n",
      "are lower and the timeframe required to repay the money is much longer. Also, consider reducing your credit \n",
      "card limit as lenders consider this to be debt (even if you have never paid a cent in interest on them).\n",
      "4. Consider renting\n",
      "Obviously this is not a choice that would be a reasonable proposition for most people. But if you are open to \n",
      "Chunk 17:\n",
      "Top Ten Property Investment Tips  5 Obtain Finance in the Current Economic Climate  /   19the possibility, then you will be saving yourself approximately 2-3% on the value of the property in repayments. \n",
      "You could rent out your current principal place of residence, and your holding costs become tax deductible.\n",
      "5. Diversify your portfolio\n",
      "If you are holding high-value, low rental yield properties, you may consider selling one of them and buying a \n",
      "couple of median-priced properties (units), returning an overall better rental yield. Interestingly, unit growth has \n",
      "largely kept pace with house growth in recent years.\n",
      "Consider Diversifying Lenders\n",
      "Often investment property owners have continued to use the same lender to provide ﬁ  nance for both their \n",
      "principal place of residence as well as their investment properties. This often poses problems because the \n",
      "more you borrow from one lender, the less you will be able to continue to borrow. This is because one lender \n",
      "considers all of the other loans that you have on their books as their cumulative risk when they are assessing \n",
      "your capacity to service a new loan. They calculate your interest rates on the other loans as though they were \n",
      "higher than they actually are. If you approach a diff  erent lender however, they will simply consider the risk as \n",
      "belonging to the other lender and ignore it when assessing your borrowing capacity. The simple and eff  ective \n",
      "solution is to use a competent mortgage broker, who will already be well versed in this strategy.\n",
      "Increase your Perceived Income\n",
      "While the obvious place to start is to ensure that you see a competent broker in order to assess which lender is most \n",
      "open to lending in line with your particular employment situation, there are a number of factors you can consider:\n",
      "1. In general, lenders prefer stability. This means they are more comfortable lending to full-time permanent \n",
      "employees rather than contractors and casual/part-time employees. Depending on your situation, it may \n",
      "be worthwhile to take up full-time employment for long enough to reﬁ  nance any existing low-doc, high \n",
      "interest loans into lower rate loans, as well as make your next property purchase(s), before returning to your \n",
      "preferred type of employment.\n",
      "2. If you own your own business that employs others, you should consider paying yourself a high wage. You \n",
      "can off  set the majority of the associated tax losses through negatively geared property, while at the same \n",
      "time making yourself much more attractive to lenders.\n",
      "3. If you currently own investment properties, you could consider discussing a rent increase with your tenant \n",
      "in exchange for a good or service of equivalent value to the increase. This will increase your perceived \n",
      "income as the lender looks at what the tenant is paying monthly.\n",
      "4. Consider any further income streams that you could claim like superannuation income, shares, family \n",
      "allowance etc. You can even consider adding a family member as a borrower or guarantor.\n",
      "5. Carefully select your lenders chronologically, based on your circumstances now and your predicted \n",
      "circumstances in the years to come. For instance, while on your ﬁ  rst investment property purchase when \n",
      "ﬁ  nance is easy to obtain, you should avoid using a lender that has easy servicing criteria. You really want to \n",
      "‘save’ these lenders until the later property purchases when you will have more diffi   culty obtaining ﬁ  nance.\n",
      "Chunk 18:\n",
      "Top Ten Property Investment Tips  6 Know Everything a Landlord Needs to Know  /   20\n",
      "6 Know Everything a Landlord \n",
      "Needs to Know\n",
      "Be Sure You Can Aff  ord It\n",
      "Many investors buy without looking into the full ﬁ  nancial impact an investment property can have. You must \n",
      "ask yourself:\n",
      " ∞Can I aff  ord the repayments if the property is vacant for a period of time?\n",
      " ∞Can I aff  ord the repayments if interest rates rise and/or if rental market falls? (Just because interest rates \n",
      "rise does not mean you can increase rent)\n",
      " ∞Can I aff  ord to maintain the property to a liveable standard and carry out urgent repairs such as hot \n",
      "water units, oven, heating replacement within a moment’s notice?\n",
      "Get the Right Training from a Professional Property Manager\n",
      "The average home owner has no idea of the tenancy laws, and it is no wonder some new investors get into \n",
      "serious trouble. It is important to speak to a professional about your rights and obligations relating to your \n",
      "tenanted property. Property Managers are experienced in their ﬁ  eld and should off  er stress free management of \n",
      "your property. ‘Lease and forget’ should be your expectation.\n",
      "Know What Tenants are Looking For\n",
      "When looking to purchase an investment, be aware of the common criteria that tenants look for. This is usually a decent \n",
      "kitchen and bathroom, good size lounge area, heating and cooling, car parking and an outdoor area. Don’t stress if your \n",
      "property doesn’t tick all the boxes, renovating is the most cost eff  ective way to get higher returns on your investment.\n",
      "Know the Area You are Buying In\n",
      "Research the area that you are buying in, to get a realistic idea of what the property you are looking at is worth in the \n",
      "current market. Have an understanding of what you can get with a little TLC on the property. (A quick paint can add an \n",
      "extra $20.00 per week). Ask your property manager about the impact of seasonal changes on the market, for example: a \n",
      "property in a popular school zone will rent for more when families are looking to enrol their children. A property by the \n",
      "beach will generate a higher rent in summer or properties near a university will generate a better return in Jan and Feb.\n",
      "Chunk 19:\n",
      "Top Ten Property Investment Tips  6 Know Everything a Landlord Needs to Know  /   21Maximise Your Property Tax Depreciation\n",
      "There are over 50 deductions a property investor can claim, but the average investor only claims half of these. \n",
      "Have your property manager arrange a depreciation schedule and speak to your accountant about maximising \n",
      "your tax return.\n",
      "Have Landlord Insurance\n",
      "It has never been as important to have landlord insurance as it is right now. With an unstable job market and \n",
      "ongoing changes in living circumstances, landlord protection is a must have. For approximately $280 per year, \n",
      "you can save thousands should your tenants default on the rent, abandon the lease or damage the property. \n",
      "There are many insurance companies that specialise in landlord insurance.\n",
      "Agent location is Not Important When Managing Your Property\n",
      "One of the biggest misconceptions about ﬁ  nding an agent to manage your property is that they need to be \n",
      "located in the neighbourhood. Over 95% of all enquiries come through the internet meaning that we can \n",
      "quickly rent out properties regardless of the geographical area. We can also asses the rent and give detailed \n",
      "advice on your area and surrounding suburbs to ensure you are receiving the best return for your property. \n",
      "Another key advantage of using an agent who covers all suburbs is that you can keep all of your investment \n",
      "properties with the same property manager. Your property manager can also provide advice on rental yields \n",
      "throughout Melbourne and help to assess your future investment opportunities.\n",
      "Renew Leases for Long Term Tenants\n",
      "Despite common assumption that tenants stay in property longer if they are left in peace, the reality is in fact \n",
      "the opposite. Research shows the following about tenants who stay in a property for more than 2 years. They:\n",
      " ∞Are in a lease agreement rather than month to month\n",
      " ∞Stay because the property is regularly maintained and repairs are carried out effi   ciently\n",
      " ∞Receive a thank you note or a tenant survey every year\n",
      " ∞Have absorbed rent increases because they felt they were warranted\n",
      "You Get What You Pay For\n",
      "Agent fees vary from agent to agent, however do not forget the old saying “you get what you pay for”. Most \n",
      "agents charge 5.5% to 7.7%. For the sake of $5.00 to $10.00 (depending on rental return) do your research and \n",
      "go with the agent that has experience, knowledge and clear understanding of the importance of property \n",
      "growth. Agencies that off  er lower fees have generally assigned a lot more properties to each property manager. \n",
      "This often results in high staff   turnover due to the stress that comes with managing too many properties and \n",
      "you could ﬁ  nd yourself dealing with someone new every couple of months.\n",
      "Chunk 20:\n",
      "Top Ten Property Investment Tips  7 Supercharge Your Results By Changing Your Mindset  /   22\n",
      "7 Supercharge Your Results By \n",
      "Changing Your Mindset\n",
      "When investing in property, investors tend to make it more complicated than it needs to be. They are often \n",
      "looking for short cuts or the next fad. Well, here is the one rule that would dramatically improve the results of \n",
      "property investors in the market place if applied correctly:\n",
      "Invest as you can next aff  ord to.\n",
      "Eighty per cent of property investors only own one investment property. Many investors simply don’t invest to \n",
      "their full potential. They become complacent either thinking they have done enough by investing in one or two \n",
      "properties, or don’t have their ﬁ  nance structured correctly to allow them to move forward.\n",
      "When building a property portfolio the purpose is to build equity. The aim is to build wealth by generating \n",
      "multiple streams of income. This can be achieved by selling off   some of the properties to pay out the others \n",
      "which will give you properties that are cash ﬂ  ow positive providing you with ongoing income.\n",
      "Follow these simple steps to supercharge your results in property investing:\n",
      "1. Structure your ﬁ  nance correctly\n",
      "2. Purchase the property\n",
      "3. After you have purchased ask yourself the following questions:\n",
      " ∞Do I have the deposit and stamp duty to invest again?\n",
      " ∞Will the bank lend me the money to buy another investment property?\n",
      " ∞If I buy another investment property will I have suffi   cient buff  er left over to help cover the holding costs \n",
      "should I need it?\n",
      "4. If the answer is yes to the above questions, simply purchase again without questioning if it is ‘the right time \n",
      "to buy’.\n",
      "5. Regularly re-value your properties and release the equity every 12 – 18 months if possible.\n",
      "Chunk 21:\n",
      "Top Ten Property Investment Tips  7 Supercharge Your Results By Changing Your Mindset  /   23In addition to purchasing one property after another, you may also want to consider the Dual Purchase \n",
      "Strategy.  \n",
      "The opportunity cost of not using your ﬁ  nancial leverage is the amount of money you stand to lose by not \n",
      "doing so. The diff  erence between a single purchase strategy and a dual purchase strategy can be hundreds of \n",
      "thousands of dollars—if not millions—over time. \n",
      "That’s a huge price to pay for not using your leveraging opportunities to the maximum advantage. \n",
      "Remember, that equity is yours—you earned it! The banks won’t tell you about the diff  erent ways you can use \n",
      "it to build wealth through property, so you must stay on the inside of the investment property game, keep \n",
      "educating yourself, and consult professionals to help you on the road to greater wealth.\n",
      "Most property investors get complacent with only one or two properties. They think it’s enough, but this is poor \n",
      "thinking. And, if investors do purchase more properties, the purchases are usually made over a number of years, \n",
      "and that means a lot of time has passed that could have been used to build more wealth.\n",
      "The rule with property investing for wealth is to purchase as soon as you can next aff  ord to, and not when:\n",
      " ∞You think it’s a good time to buy\n",
      " ∞You get your next pay rise\n",
      " ∞Interest rates come down\n",
      "You really must consider your next purchase as soon as you can say that:\n",
      " ∞You have enough funds to cover the establishment costs (deposit stamp duty etc.)\n",
      " ∞The bank will lend you the money for the purchase\n",
      " ∞You have a buff  er in place as a contingency to help manage cash ﬂ  ows\n",
      "The problem is that most investors will meet these criteria immediately after they purchase a property but they’ll still \n",
      "wait 1-2 years (or more) before they purchase their next one. What has changed over this period? Nothing, except \n",
      "that they’ve just cost themselves tens of thousands of dollars in potential growth or positive cash ﬂ  ow.\n",
      "So with this understanding of the how the numbers work why wouldn’t you simply purchase two properties at \n",
      "the same time instead of one?\n",
      "$     1,191,316\n",
      "$     1,859,536\n",
      "$        500,0007%\n",
      "5$    668,220Single Purchase StrategyEquity Increase/Wealth\n",
      "Dual Purchase Strategy\n",
      "Capital Growth RateCost of not implementing\n",
      "Dual Purchase Strategy\n",
      "Assumptions\n",
      "Average Property Price\n",
      "Current no. of propertiesOpportunity CostWealth CreationDUAL PURCHASE STRATEGY\n",
      "Chunk 22:\n",
      "Top Ten Property Investment Tips  8 Avoid Capital Gains Tax  /   24\n",
      "8 Avoid Capital \n",
      "Gains Tax\n",
      "Capital Gains Tax is incurred when you make a capital gain after selling an asset such as an investment \n",
      "property. It is calculated by identifying your net gain, (after capital expenses) and then dividing the gain by 50%. \n",
      "That ﬁ  gure is then applied to your marginal tax bracket. On average it may equal approximately 25%.\n",
      "To avoid this process you could set up a Self Managed Super Fund (SMSF).\n",
      "Due to recent changes in the industry, you can now purchase property through your SMSF. The main beneﬁ  t in \n",
      "doing so is that you can leverage your fund to generate greater returns.\n",
      "For example, If you had $100,000 sitting in a normal fund you may generate approximately 10% return (industry \n",
      "norm). This equates to $10,000 return. With a SMSF you can invest that money into a $300,000 investment \n",
      "property in a high growth area that is growing by 10% per annum and generating $30,000 worth of equity \n",
      "annually.\n",
      "If you decide to sell the property when in retirement phase, you pay no capital gains tax. The savings generated \n",
      "can be used to help reduce loans on other investment properties held in your personal name, which would \n",
      "ultimately result in cash ﬂ  ow positive properties.\n",
      "Beneﬁ  ts of Having a Self Managed Super Fund for Investing:\n",
      " ∞Your SMSF can acquire property worth more than its available funds through the beneﬁ  ts of gearing\n",
      " ∞Your SMSF assets are secured as the lender does not have recourse to your SMSF’s other assets in the \n",
      "event of default.\n",
      " ∞Your SMSF receives all income and capital growth even if the property has not been paid off  .\n",
      " ∞Your SMSF can use income from the property to help pay off   the loan.\n",
      " ∞Interest expense may be claimed as tax deductions by the SMSF and potentially reduce your SMSF’s tax \n",
      "liability.\n",
      "Chunk 23:\n",
      "Top Ten Property Investment Tips  9 Develop A Property            Wealth Plan  /   25\n",
      "9 Develop A Property            \n",
      "Wealth Plan\n",
      "Investing in property is a long-term wealth creation strategy and the road to wealth is far more achievable when you \n",
      "have the right experts to show you where to step.\n",
      "By developing a Property Wealth Plan you will fast track your results and ensure you maximise your investment \n",
      "results. You will be unstoppable in your approach to building wealth.\n",
      "Your Property Wealth Plan follows a step by step process to ensure that you’re prepared for every step of the journey.\n",
      "Your team of qualiﬁ  ed professionals will handle every aspect of establishing and managing your property portfolio. \n",
      "Our tried and proven process delivers exceptional results – here’s how it works:\n",
      "Step 1. Complimentary Rental Appraisal\n",
      "Our Senior Property Manager will provide a detailed rental appraisal demonstrating:\n",
      " ∞Comparable rental properties in the area\n",
      " ∞Strategies for increasing rental return\n",
      " ∞Recommendations regarding your overall property accumulation strategy\n",
      " ∞Your expected rental return\n",
      "Step 2. Engage AllianceCorp\n",
      "You complete a simple management authority to allow us to act on your behalf.\n",
      "Step 3. Maximise investment return prior to leasing\n",
      "AllianceCorp will inspect the property and advise on cost-eff  ective improvements to increase the rent and add \n",
      "value to the property, if you choose to implement them. We can select the trades, design schemes and project \n",
      "manage the improvements, or you can engage any or all of these services as you require. We can also advise \n",
      "on funding strategies that use your equity rather than cash for funding.\n",
      "Chunk 24:\n",
      "Top Ten Property Investment Tips  9 Develop A Property            Wealth Plan  /   26Step 4. Implement Marketing Campaign\n",
      "Components of the campaign may include:\n",
      " ∞The internet (realestate.com.au, domain.com.au and realestateview.com.au)\n",
      " ∞Listings in our colour brochure (including photographs and a detailed description)\n",
      " ∞Press advertising in daily or local newspapers\n",
      " ∞Lease board to attract passing traffi   c\n",
      "Step 5. Tenant Selection\n",
      "We maintain exceptionally high standards when it comes to selecting tenants to recommend to you. Stringent \n",
      "checks are conducted through nationwide databases, all previous rental, business and personal references are \n",
      "veriﬁ  ed, and employment details conﬁ  rmed.\n",
      "Step 6. Ongoing Management\n",
      "Our Team team of professionals will deliver on going services that include:\n",
      " ∞Regular inspections\n",
      " ∞Regular rent reviews\n",
      " ∞Portfolio reviews\n",
      " ∞Ensure rent is paid on time\n",
      " ∞Keep property in good repairTop Ten Property Investment Tips  10 Fast Track Your Results  /   27\n",
      "10 Fast Track Your \n",
      "Results\n",
      "Get professional advice before you buy\n",
      "Most people spend more time researching a new car than they do buying an investment property. Property \n",
      "purchases are the biggest purchases you will ever make yet most buyers buy without consulting a professional. \n",
      "They consult their accountant regarding tax returns and speak to their broker before investing $10,000 in \n",
      "shares. But when it comes to spending half a million dollars on a property, they proceed without really knowing \n",
      "whether they have made the right decision or not.\n",
      "In recent times, more and more buyers are realising the beneﬁ  ts of engaging a team of \n",
      "independentprofessionals to help build their property portfolios. They do this for convenience, time saving, \n",
      "expertise and to save thousands when negotiating. Let’s be realistic. A potential buyer, given work, family and \n",
      "social commitments, might be able to look at half a dozen properties during the week. A dedicated team of \n",
      "Buyers Advocates working around the clock to ﬁ  nd excellent buys, will\n",
      "see hundreds.\n",
      "At AllianceCorp, we help people realise their potential to achieve a long-term affl   uent lifestyle through \n",
      "successful property investing. Each day we share our knowledge with our clients to be as successful as they \n",
      "aspire to be. We do not have any vested interest in schemes with other businesses such as Estate Agents, \n",
      "builders or developers. We work solely for the interest of the investor or homebuyer.\n",
      "With a team of over 20 people actively looking for and securing the best property deals in the market, how can \n",
      "investors compete? We have research teams, networks and many other resources to identify the best properties \n",
      "in the best areas at the lowest price. Wouldn’t you like us to share these secrets with you?\n",
      "Chunk 25:\n",
      "Top Ten Property Investment Tips  10 Fast Track Your Results  /   28AllianceCorp’s Sophisticated Purchasing Process\n",
      "Instruct\n",
      "Mortgage Broker\n",
      "Present Options\n",
      "*Client selects property\n",
      "PORTFOLIO REVIEW\n",
      "Ŕ\u00013FWJFX\u0001QVSDIBTF\n",
      "Ŕ\u00011MBO\u0001GPS\u0001OFYUBUYER’S ADVOCATE\n",
      "Ŕ\u0001/FHPUJBUFT\n",
      "Ŕ\u00011SFQBSFT\u0001%PDT\n",
      "AC PROPERTY \n",
      ".\"/\"(&.&/5\n",
      "*Assign Property \n",
      "Manager$0.1-*.&/5\"3:\u0001\n",
      "$0/46-5\"5*0/\n",
      "Ŕ\u00011SPWJEF\u00011SPQFSUZ\u0001\n",
      "Wealth Plan DVD\n",
      "Ŕ\u00013FHJTUFS\u0001GPS\u00014FSWJDF\n",
      "4&55-&.&/5\u00015&\".\n",
      "Ŕ\u00014VQQPSU\u0001DPOWFZPST\n",
      "Ŕ\u00014VQQPSU\u0001DMJFOUTClient Snapshot\n",
      "Ŕ\u0001\"TTFTT\u0001DMJFOU\u0001DBQBDJUZ$-*&/5\u0001&%6$\"5*0/\n",
      "DVD\n",
      "Workshop\n",
      "eBooks\n",
      "etc.Assign\n",
      "Property Coach\n",
      "BUYER’S \n",
      "ADVOCATE\n",
      "Ŕ\u0001.BOBHFT\u00013FTFBSDI\n",
      "Ŕ\u00012VBMJţ \u0001FT\n",
      "Ŕ\u0001/FHPUJBUFT\n",
      "Ŕ\u00011SFQBSFT\u0001%PDT\n",
      "3&/07\"5*0/\n",
      "Ŕ\u00011SPKFDU\u0001.BOBHFS\"$26*4*5*0/4\u0001\n",
      "TEAM\n",
      "Ŕ\u0001\"DRVJTJUJPOT\u0001\n",
      "Manager\n",
      "Ŕ\u0001\"OBMZTU\n",
      "Why Use AllianceCorp\n",
      "Let us assist with ﬁ  nding the best strategy for you to ensure you fast track your results.\n",
      " ∞Know the highest growth locations\n",
      " ∞Have access to feedback and shortlist of hundreds of properties viewed and researched\n",
      " ∞Have access to the best properties on the market\n",
      " ∞Pay less for your property purchases\n",
      " ∞Feel safe with a 100% money back guarantee on our services\n",
      "If you would like to fast track your results through safe and secure property investing and wish to learn more, \n",
      "call us on 8669 0629 for a complimentary consultation.\n",
      "Chunk 26:\n",
      "Top Ten Property Investment Tips  /   29DISCLAIMER\n",
      "The information presented, including any accompanying dvd \n",
      "(“the information”), is educational and general and it should \n",
      "not be construed as speciﬁ  c investment recommendations \n",
      "or advice. You, the reader or viewer, should seek personal \n",
      "advice from a licensed ﬁ  nancial services provider as to the \n",
      "suitability or otherwise of the information to your individual \n",
      "situation before you make any ﬁ  nancial decision.\n",
      "The laws relating to investment, taxation, beneﬁ  ts and the \n",
      "handling of money, and their interpretation and implementation \n",
      "by government authorities, are constantly changing and \n",
      "while every care has been taken to ensure the accuracy of \n",
      "the information: alliancecorp, its employees or agents give \n",
      "no guarantee as to the accuracy and/or completeness of the \n",
      "information and accept no responsibility or liability (which is \n",
      "excluded to the fullest extent permitted by law) for any action \n",
      "taken by you on the basis of the information. Without limiting \n",
      "the generality of the foregoing, jason paetow and alliancecorp \n",
      "make no representation or warranty, express or implied, as to the \n",
      "results to be obtained by you from the use o f the information.\n"
     ]
    }
   ],
   "source": [
    "# Test the function\n",
    "pdf_file = '/Users/rezamohajerpoor/Documents/Github/llm_tut/data/Top-10-Tips-Ebook.pdf'  # Replace with your file path\n",
    "chunk_size = 1000  # Replace with your desired chunk size\n",
    "splits, docs = split_pdf(pdf_file, chunk_size)\n",
    "\n",
    "for i, split in enumerate(splits):\n",
    "    print(f\"Chunk {i+1}:\")\n",
    "    print(split)"
   ]
  },
  {
   "cell_type": "code",
   "execution_count": 34,
   "metadata": {},
   "outputs": [
    {
     "name": "stdout",
     "output_type": "stream",
     "text": [
      "26\n",
      "Top Ten Property Investment Tips  6 Know Everything a Landlord Needs to Know  /   21Maximise Your Property Tax Depreciation\n",
      "There are over 50 deductions a property investor can claim, but the average investor only claims half of these. \n",
      "Have your property manager arrange a depreciation schedule and speak to your accountant about maximising \n",
      "your tax return.\n",
      "Have Landlord Insurance\n",
      "It has never been as important to have landlord insurance as it is right now. With an unstable job market and \n",
      "ongoing changes in living circumstances, landlord protection is a must have. For approximately $280 per year, \n",
      "you can save thousands should your tenants default on the rent, abandon the lease or damage the property. \n",
      "There are many insurance companies that specialise in landlord insurance.\n",
      "Agent location is Not Important When Managing Your Property\n",
      "One of the biggest misconceptions about ﬁ  nding an agent to manage your property is that they need to be \n",
      "located in the neighbourhood. Over 95% of all enquiries come through the internet meaning that we can \n",
      "quickly rent out properties regardless of the geographical area. We can also asses the rent and give detailed \n",
      "advice on your area and surrounding suburbs to ensure you are receiving the best return for your property. \n",
      "Another key advantage of using an agent who covers all suburbs is that you can keep all of your investment \n",
      "properties with the same property manager. Your property manager can also provide advice on rental yields \n",
      "throughout Melbourne and help to assess your future investment opportunities.\n",
      "Renew Leases for Long Term Tenants\n",
      "Despite common assumption that tenants stay in property longer if they are left in peace, the reality is in fact \n",
      "the opposite. Research shows the following about tenants who stay in a property for more than 2 years. They:\n",
      " ∞Are in a lease agreement rather than month to month\n",
      " ∞Stay because the property is regularly maintained and repairs are carried out effi   ciently\n",
      " ∞Receive a thank you note or a tenant survey every year\n",
      " ∞Have absorbed rent increases because they felt they were warranted\n",
      "You Get What You Pay For\n",
      "Agent fees vary from agent to agent, however do not forget the old saying “you get what you pay for”. Most \n",
      "agents charge 5.5% to 7.7%. For the sake of $5.00 to $10.00 (depending on rental return) do your research and \n",
      "go with the agent that has experience, knowledge and clear understanding of the importance of property \n",
      "growth. Agencies that off  er lower fees have generally assigned a lot more properties to each property manager. \n",
      "This often results in high staff   turnover due to the stress that comes with managing too many properties and \n",
      "you could ﬁ  nd yourself dealing with someone new every couple of months.\n",
      "page_content='Top Ten Property Investment Tips  6 Know Everything a Landlord Needs to Know  /   21Maximise Your Property Tax Depreciation\\nThere are over 50 deductions a property investor can claim, but the average investor only claims half of these. \\nHave your property manager arrange a depreciation schedule and speak to your accountant about maximising \\nyour tax return.\\nHave Landlord Insurance\\nIt has never been as important to have landlord insurance as it is right now. With an unstable job market and \\nongoing changes in living circumstances, landlord protection is a must have. For approximately $280 per year, \\nyou can save thousands should your tenants default on the rent, abandon the lease or damage the property. \\nThere are many insurance companies that specialise in landlord insurance.\\nAgent location is Not Important When Managing Your Property\\nOne of the biggest misconceptions about ﬁ  nding an agent to manage your property is that they need to be \\nlocated in the neighbourhood. Over 95% of all enquiries come through the internet meaning that we can \\nquickly rent out properties regardless of the geographical area. We can also asses the rent and give detailed \\nadvice on your area and surrounding suburbs to ensure you are receiving the best return for your property. \\nAnother key advantage of using an agent who covers all suburbs is that you can keep all of your investment \\nproperties with the same property manager. Your property manager can also provide advice on rental yields \\nthroughout Melbourne and help to assess your future investment opportunities.\\nRenew Leases for Long Term Tenants\\nDespite common assumption that tenants stay in property longer if they are left in peace, the reality is in fact \\nthe opposite. Research shows the following about tenants who stay in a property for more than 2 years. They:\\n ∞Are in a lease agreement rather than month to month\\n ∞Stay because the property is regularly maintained and repairs are carried out effi   ciently\\n ∞Receive a thank you note or a tenant survey every year\\n ∞Have absorbed rent increases because they felt they were warranted\\nYou Get What You Pay For\\nAgent fees vary from agent to agent, however do not forget the old saying “you get what you pay for”. Most \\nagents charge 5.5% to 7.7%. For the sake of $5.00 to $10.00 (depending on rental return) do your research and \\ngo with the agent that has experience, knowledge and clear understanding of the importance of property \\ngrowth. Agencies that off  er lower fees have generally assigned a lot more properties to each property manager. \\nThis often results in high staff   turnover due to the stress that comes with managing too many properties and \\nyou could ﬁ  nd yourself dealing with someone new every couple of months.'\n"
     ]
    }
   ],
   "source": [
    "print(len(splits))\n",
    "print(splits[18])\n",
    "print(docs[18])"
   ]
  },
  {
   "cell_type": "code",
   "execution_count": 54,
   "metadata": {},
   "outputs": [
    {
     "name": "stdout",
     "output_type": "stream",
     "text": [
      "we have made 1 so far\n",
      "we have made 2 so far\n",
      "we have made 3 so far\n",
      "we have made 4 so far\n",
      "we have made 5 so far\n",
      "we have made 6 so far\n",
      "we have made 7 so far\n",
      "we have made 8 so far\n",
      "we have made 9 so far\n",
      "we have made 10 so far\n",
      "we have made 11 so far\n",
      "we have made 12 so far\n",
      "we have made 13 so far\n",
      "we have made 14 so far\n",
      "we have made 15 so far\n",
      "we have made 16 so far\n",
      "we have made 17 so far\n",
      "we have made 18 so far\n",
      "we have made 19 so far\n",
      "we have made 20 so far\n",
      "we have made 21 so far\n",
      "we have made 22 so far\n",
      "we have made 23 so far\n",
      "we have made 24 so far\n",
      "we have made 25 so far\n"
     ]
    }
   ],
   "source": [
    "# Create Ollama embeddings and vector store\n",
    "embedding_results = []\n",
    "for text in docs:\n",
    "    prompt = {'prompt': text, 'max_length': 2048}\n",
    "    result = embeddings.embed_documents(prompt)\n",
    "    embedding_results.append(result)\n",
    "    print(f'we have made {len(embedding_results)} so far')\n",
    "vectorstore = Chroma.from_documents(documents=docs, embedding=embeddings, persist_directory=\"./bigdata/chroma_db\")\n",
    "vectorstore.persist()"
   ]
  },
  {
   "cell_type": "code",
   "execution_count": 60,
   "metadata": {},
   "outputs": [],
   "source": [
    "# load the vectorstore if it is already created\n",
    "vectorstore = Chroma(persist_directory=\"./bigdata/chroma_db\", embedding_function=embeddings)\n",
    "# Create the retriever\n",
    "retriever = vectorstore.as_retriever()"
   ]
  },
  {
   "cell_type": "code",
   "execution_count": 61,
   "metadata": {},
   "outputs": [
    {
     "data": {
      "text/plain": [
       "50"
      ]
     },
     "execution_count": 61,
     "metadata": {},
     "output_type": "execute_result"
    }
   ],
   "source": [
    "len(vectorstore)"
   ]
  },
  {
   "cell_type": "code",
   "execution_count": 57,
   "metadata": {},
   "outputs": [],
   "source": [
    "def format_docs(docs):\n",
    "    return \"\\n\\n\".join(doc.page_content for doc in docs)\n",
    "\n",
    "# Define the Ollama LLM function\n",
    "def ollama_llm(question, context):\n",
    "    formatted_prompt = f\"Question: {question}\\n\\nContext: {context}\"\n",
    "    response = ollama.chat(model='llama3', messages=[{'role': 'user', 'content': formatted_prompt}])\n",
    "    return response['message']['content']\n",
    "\n",
    "# Define the RAG chain\n",
    "def rag_chain(question):\n",
    "    retrieved_docs = retriever.invoke(question)\n",
    "    formatted_context = format_docs(retrieved_docs)\n",
    "    return ollama_llm(question, formatted_context)"
   ]
  },
  {
   "cell_type": "code",
   "execution_count": 62,
   "metadata": {},
   "outputs": [
    {
     "name": "stdout",
     "output_type": "stream",
     "text": [
      "Here are the top 10 property investment tips:\n",
      "\n",
      "1. **Double Your Property Investment Return in Just One Move**: This tip suggests that you can increase your returns by using a combination of strategies such as negative gearing and depreciation.\n",
      "\n",
      "2. **Buy Property with Positive Equity from Day One**: This means buying a property that already has equity, reducing the amount you need to borrow and increasing your cash flow.\n",
      "\n",
      "3. **Be Aware of Risky Strategies That Can Cost You Thousands**: Be cautious of strategies that may seem attractive but can actually cost you money in the long run.\n",
      "\n",
      "4. **Use A Master Facility to Build Your Portfolio With No Impact to Your Lifestyle**: This involves using a master facility loan structure to release equity and build your property portfolio without affecting your lifestyle.\n",
      "\n",
      "5. **Obtain Finance in the Current Economic Climate**: Tips on how to get finance in a challenging economic climate, including diversifying lenders and reducing cash flow commitment.\n",
      "\n",
      "6. **Know Everything a Landlord Needs to Know**: This involves understanding the ins and outs of being a landlord, including tax implications and property management.\n",
      "\n",
      "7. **Supercharge Your Results By Changing Your Mindset**: Tips on how to change your mindset and focus on achieving your financial goals through property investment.\n",
      "\n",
      "8. **Avoid Capital Gains Tax**: Strategies for minimizing capital gains tax when selling properties, such as using the 12-month rule or incorporating a company.\n",
      "\n",
      "9. **Develop A Property Wealth Plan**: Tips on how to develop a comprehensive plan for building wealth through property investment, including setting goals and creating an action plan.\n",
      "\n",
      "10. **Fast Track Your Results**: Strategies for fast-tracking your results, including using leverage, diversifying investments, and focusing on high-growth areas.\n",
      "\n",
      "These tips aim to help you build a successful property portfolio by implementing safe and secure strategies.\n"
     ]
    }
   ],
   "source": [
    "# Use the RAG chain\n",
    "result = rag_chain(\"summarize top 10 tips for building a property portfolio\")\n",
    "print(result)"
   ]
  },
  {
   "cell_type": "markdown",
   "metadata": {},
   "source": [
    "# Using Code Llama"
   ]
  },
  {
   "cell_type": "code",
   "execution_count": 3,
   "metadata": {},
   "outputs": [],
   "source": [
    "import ollama "
   ]
  },
  {
   "cell_type": "code",
   "execution_count": 8,
   "metadata": {},
   "outputs": [],
   "source": [
    "# write A helper function that gets a user prompt and a system prompt and a model name and creates a chat model with ollama\n",
    "\n",
    "def ollama_code(user_prompt, system_prompt, model_name):\n",
    "    \n",
    "    chat_model = ollama.chat(\n",
    "        model=model_name, \n",
    "        messages=[\n",
    "            {\"role\": \"system\", \"content\": system_prompt},\n",
    "            {\"role\": \"user\", \"content\": user_prompt}\n",
    "        ],\n",
    "        stream = True\n",
    "    )\n",
    "\n",
    "    assistant_message = ''\n",
    "    for chunk in chat_model:\n",
    "        assistant_message += chunk['message']['content']\n",
    "        print(chunk['message']['content'], end='', flush=True)\n",
    "\n",
    "    return assistant_message"
   ]
  },
  {
   "cell_type": "code",
   "execution_count": 4,
   "metadata": {},
   "outputs": [],
   "source": [
    "user_prompt = \"\"\"\n",
    "def star_rating(n):\n",
    "'''\n",
    "  This function returns a rating given the number n,\n",
    "  where n is an integers from 1 to 5.\n",
    "'''\n",
    "\n",
    "    if n == 1:\n",
    "        rating=\"poor\"\n",
    "    <FILL>\n",
    "    elif n == 5:\n",
    "        rating=\"excellent\"\n",
    "\n",
    "    return rating\n",
    "\"\"\"\n",
    "\n",
    "system_prompt = \"\"\" \n",
    "you are an expert python programmer. \n",
    "write a python code and test it to make sure that it is accurate.\n",
    "put comments in the code you generate.\n",
    "\"\"\"\n"
   ]
  },
  {
   "cell_type": "code",
   "execution_count": 9,
   "metadata": {},
   "outputs": [
    {
     "name": "stdout",
     "output_type": "stream",
     "text": [
      "\n",
      "Here's a sample Python code that defines a function named `star_rating` and returns a rating based on the input number `n`:\n",
      "```python\n",
      "def star_rating(n):\n",
      "    '''\n",
      "    This function returns a rating given the number n,\n",
      "    where n is an integers from 1 to 5.\n",
      "    '''\n",
      "\n",
      "    if n == 1:\n",
      "        return \"poor\"\n",
      "    elif n == 2:\n",
      "        return \"fair\"\n",
      "    elif n == 3:\n",
      "        return \"good\"\n",
      "    elif n == 4:\n",
      "        return \"very good\"\n",
      "    elif n == 5:\n",
      "        return \"excellent\"\n",
      "```\n",
      "You can test this function by calling it with different input numbers, like this:\n",
      "```python\n",
      "print(star_rating(1)) # poor\n",
      "print(star_rating(2)) # fair\n",
      "print(star_rating(3)) # good\n",
      "print(star_rating(4)) # very good\n",
      "print(star_rating(5)) # excellent\n",
      "```\n",
      "This will print out the corresponding rating for each input number.\n",
      "\n",
      "Note that this function is not exhaustive, and it assumes that the input number is an integer between 1 and 5. If you pass in a number outside of this range, it will return `None` instead of a rating. You can modify the function to handle other input values or to return a different default value if no rating is found."
     ]
    }
   ],
   "source": [
    "model_name = \"codellama:13b\"\n",
    "response  = ollama_code(user_prompt, system_prompt, model_name)"
   ]
  },
  {
   "cell_type": "code",
   "execution_count": 75,
   "metadata": {},
   "outputs": [
    {
     "name": "stdout",
     "output_type": "stream",
     "text": [
      "\n",
      "def star_rating(n):\n",
      "    '''\n",
      "      This function returns a rating given the number n,\n",
      "      where n is an integers from 1 to 5.\n",
      "    '''\n",
      "    \n",
      "    if n == 1:\n",
      "        rating=\"poor\"\n",
      "    elif n == 2:\n",
      "        rating=\"fair\"\n",
      "    elif n == 3:\n",
      "        rating=\"good\"\n",
      "    elif n == 4:\n",
      "        rating=\"very good\"\n",
      "    elif n == 5:\n",
      "        rating=\"excellent\"\n",
      "    \n",
      "    return rating\n"
     ]
    }
   ],
   "source": [
    "print(response)"
   ]
  },
  {
   "cell_type": "code",
   "execution_count": 13,
   "metadata": {},
   "outputs": [],
   "source": [
    "user_prompt = \"\"\"\n",
    "Provide a function that calculates the n-th fibonacci number.\n",
    "\"\"\"\n",
    "system_prompt = \"\"\" \n",
    "you are an expert python programmer. \n",
    "write a python code and test it to make sure that it is accurate.\n",
    "put comments in the code you generate.\n",
    "\"\"\""
   ]
  },
  {
   "cell_type": "code",
   "execution_count": 14,
   "metadata": {},
   "outputs": [
    {
     "name": "stdout",
     "output_type": "stream",
     "text": [
      "Here's a Python function that calculates the n-th Fibonacci number:\n",
      "\n",
      "```python\n",
      "def fibonacci(n):\n",
      "    if n <= 0:\n",
      "        return \"Input should be positive integer.\"\n",
      "    elif n == 1:\n",
      "        return 0\n",
      "    elif n == 2:\n",
      "        return 1\n",
      "    else:\n",
      "        a, b = 0, 1\n",
      "        for i in range(2, n):\n",
      "            a, b = b, a + b\n",
      "        return b\n",
      "\n",
      "# Test the function\n",
      "print(fibonacci(9))  # Output: 21\n",
      "```\n",
      "\n",
      "This function uses a simple iterative approach to calculate the n-th Fibonacci number. The basic idea is that each subsequent Fibonacci number is the sum of the previous two numbers (0 and 1 for the first two numbers). We start with `a` as 0 and `b` as 1, then in each iteration, we update `a` and `b` to be `b` and `a + b`, respectively. This continues until we reach the desired number of iterations (n-2), at which point `b` will hold the n-th Fibonacci number.\n",
      "\n",
      "The function also includes some basic error checking to ensure that the input is a positive integer, as requested by the problem statement. If the input is not valid, the function returns an error message instead of attempting to calculate the Fibonacci number.\n",
      "\n",
      "When tested with n = 9, this function correctly returns the 9th Fibonacci number, which is indeed 21."
     ]
    }
   ],
   "source": [
    "model_name = \"llama3\"\n",
    "response  = ollama_code(user_prompt, system_prompt, model_name)"
   ]
  },
  {
   "cell_type": "markdown",
   "metadata": {},
   "source": []
  },
  {
   "cell_type": "code",
   "execution_count": 15,
   "metadata": {},
   "outputs": [
    {
     "name": "stdout",
     "output_type": "stream",
     "text": [
      "```\n",
      "def fibonacci(n):\n",
      "    \"\"\"\n",
      "    Calculate the n-th Fibonacci number.\n",
      "    :param n: The position of the Fibonacci number to calculate (starting from 0).\n",
      "    :return: The n-th Fibonacci number.\n",
      "    \"\"\"\n",
      "    if n == 0:\n",
      "        return 0\n",
      "    elif n == 1:\n",
      "        return 1\n",
      "    else:\n",
      "        return fibonacci(n-1) + fibonacci(n-2)\n",
      "```\n",
      "This function uses a recursive approach to calculate the Fibonacci number. It starts by checking if the input `n` is either 0 or 1, in which case the result is simply 0 and 1 respectively. If `n` is greater than 1, it calls itself twice with arguments `n-1` and `n-2`, and then adds the results together to get the final Fibonacci number.\n",
      "\n",
      "To test this function, we can use the following code:\n",
      "```\n",
      "print(fibonacci(0)) # should print 0\n",
      "print(fibonacci(1)) # should print 1\n",
      "print(fibonacci(2)) # should print 1\n",
      "print(fibonacci(3)) # should print 2\n",
      "print(fibonacci(4)) # should print 3\n",
      "```\n",
      "Each of these lines will call the `fibonacci` function with a different input value, and the output should match the expected result for that position in the Fibonacci sequence."
     ]
    }
   ],
   "source": [
    "model_name = \"codellama:13b\"\n",
    "response  = ollama_code(user_prompt, system_prompt, model_name)"
   ]
  },
  {
   "cell_type": "code",
   "execution_count": 20,
   "metadata": {},
   "outputs": [],
   "source": [
    "user_prompt = \"\"\" \n",
    "write A helper function that gets a user prompt and a system prompt and a model name and creates a model with ollama. \n",
    "use langchain ollama library .\n",
    "the function should turn stream as True and return the final response text\n",
    "\"\"\"\n"
   ]
  },
  {
   "cell_type": "code",
   "execution_count": 21,
   "metadata": {},
   "outputs": [
    {
     "name": "stdout",
     "output_type": "stream",
     "text": [
      "# Import the necessary libraries\n",
      "import ollamalib\n",
      "from ollamalib import *\n",
      "\n",
      "# Define the helper function\n",
      "def create_model(user_prompt, system_prompt, model_name):\n",
      "    # Initialize a new Ollama object\n",
      "    ollama = Ollama()\n",
      "    \n",
      "    # Set the user prompt and system prompt for the model\n",
      "    ollama.set_prompts(user_prompt, system_prompt)\n",
      "    \n",
      "    # Create a new model with the specified name\n",
      "    model = ollama.create_model(model_name)\n",
      "    \n",
      "    # Set the stream to True\n",
      "    model.stream = True\n",
      "    \n",
      "    # Return the final response text\n",
      "    return model.final_response()\n",
      "\n",
      "# Test the helper function\n",
      "print(\"Testing the create_model function:\")\n",
      "user_prompt = \"What is your name?\"\n",
      "system_prompt = \"Hello there, my name is LLaMA!\"\n",
      "model_name = \"test_model\"\n",
      "response = create_model(user_prompt, system_prompt, model_name)\n",
      "print(\"Response:\", response)"
     ]
    }
   ],
   "source": [
    "model_name = \"codellama:13b\"\n",
    "response  = ollama_code(user_prompt, system_prompt, model_name)"
   ]
  },
  {
   "cell_type": "code",
   "execution_count": null,
   "metadata": {},
   "outputs": [],
   "source": []
  }
 ],
 "metadata": {
  "kernelspec": {
   "display_name": "llm_tut",
   "language": "python",
   "name": "python3"
  },
  "language_info": {
   "codemirror_mode": {
    "name": "ipython",
    "version": 3
   },
   "file_extension": ".py",
   "mimetype": "text/x-python",
   "name": "python",
   "nbconvert_exporter": "python",
   "pygments_lexer": "ipython3",
   "version": "3.11.3"
  }
 },
 "nbformat": 4,
 "nbformat_minor": 2
}
